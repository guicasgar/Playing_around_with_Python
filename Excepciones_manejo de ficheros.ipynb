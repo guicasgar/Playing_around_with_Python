{
 "cells": [
  {
   "cell_type": "markdown",
   "id": "fc30786f-1df4-48d6-b681-28933748406d",
   "metadata": {},
   "source": [
    "## Examen Práctico 6"
   ]
  },
  {
   "cell_type": "markdown",
   "id": "1eab07a3-0217-439a-b364-07f7d11f5c79",
   "metadata": {},
   "source": [
    "#### Pregunta 1"
   ]
  },
  {
   "cell_type": "markdown",
   "id": "5fc83bbe-c928-4a22-943e-a6c3050ab736",
   "metadata": {},
   "source": [
    "Dado el siguiente código, implementarlo en una función que reciba n como parámetro, a continuación generar un error para cuando n sea menor o igual a cero. Este error debe ser de tipo ValueError y debe mostrar el siguiente mensaje:\n",
    "\n",
    "\"Error! No puedo generar el patron con {n}.\""
   ]
  },
  {
   "cell_type": "code",
   "execution_count": null,
   "id": "4fcfef08-6e9f-46b1-b9e8-b7ed2e2a53ab",
   "metadata": {},
   "outputs": [],
   "source": [
    "def funcion(n):\n",
    "    if n <= 0:\n",
    "        raise ValueError(f\"¡Error! No puedo generar el patron con {n}.\")\n",
    "           \n",
    "    for i in range(n,0,-1):\n",
    "        for j in range(i,0,-1):\n",
    "            print(j,end=\"\")\n",
    "        print(\"\\n\",end=\"\")\n",
    "        \n",
    "n = -3\n",
    "\n",
    "try:\n",
    "    funcion(n)\n",
    "except ValueError as e:\n",
    "    print(e)        "
   ]
  },
  {
   "cell_type": "markdown",
   "id": "cbbc0a9f-3a92-41d4-9d4e-cc08f7854c30",
   "metadata": {},
   "source": [
    "#### Pregunta 2"
   ]
  },
  {
   "cell_type": "markdown",
   "id": "36964019-b3b8-4dd7-9574-6dfaa6fcc00a",
   "metadata": {},
   "source": [
    "Controlar todos los posibles errores del ejercicio 4  de los ejercicios resueltos en el Tema 4."
   ]
  },
  {
   "cell_type": "code",
   "execution_count": null,
   "id": "18d12e11-fab8-4ec0-8640-df2f08bb154d",
   "metadata": {},
   "outputs": [],
   "source": [
    "def tempMedia(maxi, mini):\n",
    "    temp_media = (maxi + mini) / 2\n",
    "    return temp_media\n",
    "\n",
    "try:\n",
    "    maxi = float(input(\"Por favor, introduzca la temperatura máxima del día: \"))\n",
    "    mini = float(input(\"Por favor, introduzca la temperatura mínima del día: \"))\n",
    "    temp_media = tempMedia(maxi, mini)\n",
    "    print(f\"La temperatura media para este día es: {temp_media}\")\n",
    "    \n",
    "except ValueError:\n",
    "    print(\"¡Error! Por favor, introduzca valores numéricos.\")\n",
    "except KeyboardInterrupt:\n",
    "    print(\"\\n¡Operación interrumpida por el usuario!\")\n",
    "except Exception as e:\n",
    "    print(f\"¡Error inesperado! {e}\")"
   ]
  },
  {
   "cell_type": "markdown",
   "id": "ab3ce32e-f3e6-4cb1-baa0-08b56320f8aa",
   "metadata": {},
   "source": [
    "#### Pregunta 3"
   ]
  },
  {
   "cell_type": "markdown",
   "id": "91b3ab8e-a28e-4015-9dab-5a8614478626",
   "metadata": {},
   "source": [
    "Controlar todos los posibles errores del ejercicio 6  de los ejercicios resueltos en el Tema 4."
   ]
  },
  {
   "cell_type": "code",
   "execution_count": null,
   "id": "72e0bedb-edad-4a14-99a8-2a54eaa43a72",
   "metadata": {},
   "outputs": [],
   "source": [
    "from math import pi\n",
    "\n",
    "def circunferencia(r):\n",
    "    area = pi*r**2\n",
    "    perimetro = 2*pi*r\n",
    "    return area, perimetro\n",
    "\n",
    "try:\n",
    "    r = float(input(\"Por favor, ingrese el radio de la circunferencia en cm: \"))\n",
    "    area, perimetro = circunferencia(r)\n",
    "    print(f'El área de la circunferencia es {area:.3f} cm2 y el perímetro es {perimetro:.3f} cm')\n",
    "except ValueError:\n",
    "    print(\"¡Error! Por favor, introduzca valores numéricos.\")\n",
    "except KeyboardInterrupt:\n",
    "    print(\"\\n¡Operación interrumpida por el usuario!\")\n",
    "except Exception as e:\n",
    "    print(f\"¡Error inesperado! {e}\")"
   ]
  },
  {
   "cell_type": "markdown",
   "id": "d8f99cab-221b-43f1-a721-28291c538b74",
   "metadata": {},
   "source": [
    "#### Pregunta 4"
   ]
  },
  {
   "cell_type": "markdown",
   "id": "d8242f14-7555-4c67-84c1-36153c588271",
   "metadata": {},
   "source": [
    "Controlar todos los posibles errores del ejercicio 9  de los ejercicios resueltos en el Tema 4."
   ]
  },
  {
   "cell_type": "code",
   "execution_count": null,
   "id": "22484b55-4f2d-46d4-8f23-9b886d6a69b2",
   "metadata": {},
   "outputs": [],
   "source": [
    "def Leer_fraccion():\n",
    "    try:\n",
    "        n = int(input(\"Por favor, introduzca un valor para el numerador: \"))\n",
    "        d = int(input(\"Por favor, introduzca un valor para el denominador: \"))\n",
    "        if d == 0:\n",
    "                print(\"¡Error! El denominador no puede ser cero.\")\n",
    "        else:\n",
    "            return n, d\n",
    "    except ValueError:\n",
    "        print(\"¡Error! Por favor, introduzca valores numéricos.\")\n",
    "    \n",
    "def Escribir_fraccion(n,d):\n",
    "    if d==1:\n",
    "        print(n)\n",
    "    elif n==0:\n",
    "        print(0)\n",
    "    else:\n",
    "        print(f'{n}/{d}')\n",
    "    \n",
    "def Sumar_fracciones(n1,d1,n2,d2):\n",
    "    resultado_num = n1*d2+n2*d1\n",
    "    resultado_den = d1*d2\n",
    "    return resultado_num,resultado_den\n",
    "    \n",
    "def Restar_fracciones(n1,d1,n2,d2):\n",
    "    resultado_num = n1*d2-n2*d1\n",
    "    resultado_den = d1*d2\n",
    "    return resultado_num,resultado_d\n",
    "\n",
    "try:\n",
    "    n1,d1 = Leer_fraccion()\n",
    "    n2,d2 = Leer_fraccion()\n",
    "    Escribir_fraccion(n1,d1)\n",
    "    Escribir_fraccion(n2,d2)\n",
    "    resultado_num,resultado_den = Sumar_fracciones(n1,d1,n2,d2)\n",
    "    Escribir_fraccion(resultado_num,resultado_den)\n",
    "except TypeError:\n",
    "    print(\"Inténtelo de nuevo\")"
   ]
  },
  {
   "cell_type": "markdown",
   "id": "ef4f8f4f-3fe1-4d89-9cb3-f3d95ee2fbec",
   "metadata": {},
   "source": [
    "#### Pregunta 5"
   ]
  },
  {
   "cell_type": "markdown",
   "id": "72f48bce-05c2-403e-bea5-f01b67723fc2",
   "metadata": {},
   "source": [
    "Crear una clase de Excepción para el ejercicio anterior, el nombre de la clase sera FraccionError y debe lanzarlo cuando el denominador sea 0, luego capturar la excepción y tratarla."
   ]
  },
  {
   "cell_type": "code",
   "execution_count": null,
   "id": "e7f6ed80-9b72-41af-97cc-0160cc3ef933",
   "metadata": {},
   "outputs": [],
   "source": [
    "class FraccionError:\n",
    "    def __init__(self):\n",
    "        try:\n",
    "            self.n = int(input(\"Por favor, introduzca un valor para el numerador: \"))\n",
    "            self.d = int(input(\"Por favor, introduzca un valor para el denominador: \"))\n",
    "            \n",
    "            if self.d == 0:\n",
    "                    print(\"¡Error! El denominador no puede ser cero.\")\n",
    "                    \n",
    "        except ValueError:\n",
    "            print(\"¡Error! Por favor, introduzca valores numéricos.\")\n",
    "    \n",
    "    def __str__(self):\n",
    "        return f\"El numerador es: {self.n} \\nEl denominador es: {self.d}\"\n",
    "    \n",
    "excepcion = FraccionError()\n",
    "\n",
    "print(excepcion)"
   ]
  },
  {
   "cell_type": "markdown",
   "id": "5d6e94d9-39d9-4944-9b4e-eff850aca00b",
   "metadata": {},
   "source": [
    "#### Pregunta 6"
   ]
  },
  {
   "cell_type": "markdown",
   "id": "f6053e8d-8a76-4668-8458-f5f18ee1606d",
   "metadata": {},
   "source": [
    "Crea un programa que vaya leyendo las frases que el usuario teclea y las guarde en un fichero de texto llamado “registroDeUsuario.txt”. Terminará cuando la frase introducida sea \"fin\" (esa fraseno deberá guardarse en el fichero)."
   ]
  },
  {
   "cell_type": "code",
   "execution_count": null,
   "id": "cd89b9ad",
   "metadata": {},
   "outputs": [],
   "source": [
    "def escribirFrases():\n",
    "    nombre_fichero = \"registroDeUsuario.txt\"\n",
    "    r = \"\" \n",
    "    \n",
    "    while True:\n",
    "        frase = input(\"Por favor, escriba una frase: \")\n",
    "        if frase == \"fin\":\n",
    "            r = \"Se ha cerrado el fichero\"  \n",
    "            break\n",
    "            \n",
    "        with open(nombre_fichero, \"a\") as f:\n",
    "            f.write(\"{}\\n\".format(frase))\n",
    "            print(\"La frase se ha guardado\")\n",
    "            \n",
    "    return r\n",
    "\n",
    "print(escribirFrases())"
   ]
  },
  {
   "cell_type": "markdown",
   "id": "dfcddf01-edd6-435f-9379-e8ba9f40caf8",
   "metadata": {},
   "source": [
    "#### Pregunta 7"
   ]
  },
  {
   "cell_type": "markdown",
   "id": "d9573456-7a06-4b0b-9851-682cf167902c",
   "metadata": {},
   "source": [
    "Escribir un programa para gestionar un listín telefónico con los nombres y los teléfonos de los clientes de una empresa. El programa incorpora funciones para crear el fichero con el listín si no existe, consultar el teléfono de un cliente, añadir el teléfono de un nuevo cliente y eliminar el teléfono de un cliente. El listín debe estar guardado en 2 ficheros de texto nombrescliente.txt y telefonocliente.txt donde ambos deben estar sincronizados pues en la misma linea de ambos deben estar el nombre y numero de un cliente.\n",
    "\n",
    "El programa debe mostrar un menu con todas las opciones que puede realizar asi como la opción salir para terminar el programa y tambien se deben controlar todos los posibles errores y excepciones que pueda suceder."
   ]
  },
  {
   "cell_type": "code",
   "execution_count": null,
   "id": "b61bcb6c-d971-425a-b4aa-86616036adfa",
   "metadata": {},
   "outputs": [],
   "source": [
    "def crear_listin():\n",
    "    with open(\"nombrescliente.txt\", \"w\") as nombres_file, open(\"telefonocliente.txt\", \"w\") as telefono_file:\n",
    "        pass\n",
    "    \n",
    "def mostrar_menu():\n",
    "    print(\"1. Consultar teléfono\")\n",
    "    print(\"2. Añadir nuevo cliente\")\n",
    "    print(\"3. Eliminar cliente\")\n",
    "    print(\"4. Mostrar listín completo\")\n",
    "    print(\"5. Salir\")\n",
    "    \n",
    "def consultar_telefono():\n",
    "    nombre = input(\"Ingrese el nombre del cliente: \")\n",
    "    try:\n",
    "        with open(\"nombrescliente.txt\", \"r\") as nombres_file, open(\"telefonocliente.txt\", \"r\") as telefono_file:\n",
    "            nombres = nombres_file.readlines()\n",
    "            telefonos = telefono_file.readlines()\n",
    "            indice = nombres.index(nombre + '\\n')  \n",
    "            telefono = telefonos[indice].strip()\n",
    "            print(f\"Teléfono de {nombre}: {telefono}\")\n",
    "    except FileNotFoundError:\n",
    "        print(\"Listín no encontrado.\")\n",
    "    except ValueError:\n",
    "        print(\"Cliente no encontrado.\")\n",
    "        \n",
    "def añadir_cliente():\n",
    "    nombre = input(\"Ingrese el nombre del nuevo cliente: \")\n",
    "    telefono = input(\"Ingrese el teléfono del nuevo cliente: \")\n",
    "    try:\n",
    "        with open(\"nombrescliente.txt\", \"a\") as nombres_file, open(\"telefonocliente.txt\", \"a\") as telefono_file:\n",
    "            nombres_file.write(nombre + '\\n')\n",
    "            telefono_file.write(telefono + '\\n')\n",
    "        print(f\"Cliente {nombre} añadido correctamente.\")\n",
    "    except Exception as e:\n",
    "        print(f\"Error al añadir cliente: {e}\")\n",
    "\n",
    "def eliminar_cliente():\n",
    "    nombre = input(\"Ingrese el nombre del cliente a eliminar: \")\n",
    "    try:\n",
    "        with open(\"nombrescliente.txt\", \"r\") as nombres_file, open(\"telefonocliente.txt\", \"r\") as telefono_file:\n",
    "            nombres = nombres_file.readlines()\n",
    "            telefonos = telefono_file.readlines()\n",
    "            indice = nombres.index(nombre + '\\n')\n",
    "        with open(\"nombrescliente.txt\", \"w\") as nombres_file, open(\"telefonocliente.txt\", \"w\") as telefono_file:\n",
    "            del nombres[indice]\n",
    "            del telefonos[indice]\n",
    "            nombres_file.writelines(nombres)\n",
    "            telefono_file.writelines(telefonos)\n",
    "        print(f\"Cliente {nombre} eliminado correctamente.\")\n",
    "    except FileNotFoundError:\n",
    "        print(\"Listín no encontrado.\")\n",
    "    except ValueError:\n",
    "        print(\"Cliente no encontrado.\")\n",
    "    except Exception as e:\n",
    "        print(f\"Error al eliminar cliente: {e}\")\n",
    "\n",
    "def mostrar_listin_completo():\n",
    "    try:\n",
    "        with open(\"nombrescliente.txt\", \"r\") as nombres_file, open(\"telefonocliente.txt\", \"r\") as telefono_file:\n",
    "            nombres = nombres_file.readlines()\n",
    "            telefonos = telefono_file.readlines()\n",
    "            for nombre, telefono in zip(nombres, telefonos):\n",
    "                print(f\"{nombre.strip()}: {telefono.strip()}\")\n",
    "    except FileNotFoundError:\n",
    "        print(\"Listín no encontrado.\")\n",
    "\n",
    "crear_listin()\n",
    "\n",
    "while True:\n",
    "    mostrar_menu()\n",
    "\n",
    "    opcion = input(\"Seleccione una opción: \")\n",
    "\n",
    "    if opcion == \"1\":\n",
    "        consultar_telefono()\n",
    "    elif opcion == \"2\":\n",
    "        añadir_cliente()\n",
    "    elif opcion == \"3\":\n",
    "        eliminar_cliente()\n",
    "    elif opcion == \"4\":\n",
    "        mostrar_listin_completo()\n",
    "    elif opcion == \"5\":\n",
    "        print(\"Saliendo del programa. ¡Hasta luego!\")\n",
    "        break\n",
    "    else:\n",
    "        print(\"Opción no válida. Intente de nuevo.\")"
   ]
  },
  {
   "cell_type": "markdown",
   "id": "b7663f2a-25ef-4991-aaff-c37f9f71c32c",
   "metadata": {},
   "source": [
    "#### Pregunta 8"
   ]
  },
  {
   "cell_type": "markdown",
   "id": "c6aca08c-d0cb-4a65-8ab8-b1cbe691eae1",
   "metadata": {},
   "source": [
    "Realizar un programa que permita trabajar sobre un archivo llamado contador.txt con un valor númerico como contenido, el programa solo debe esperar una opción; si el usuario ingresa A el valor debe aumentar en 1 , si en cambio ingresa D debe disminuir en 1 y si ingresa S el programa debe terminar..\n",
    "\n",
    "La primera vez que se ejecuta el programa el archivo debe crearse con un valor de 0.\n",
    "\n",
    "Controlar todos los posibles errores.\n"
   ]
  },
  {
   "cell_type": "code",
   "execution_count": 1,
   "id": "74440513-7384-4052-9272-33718bf9df04",
   "metadata": {},
   "outputs": [
    {
     "name": "stdout",
     "output_type": "stream",
     "text": [
      "Valor actual: 0\n",
      "A. Aumentar el valor una unidad\n",
      "D. Disminuye el valor una unidad\n",
      "S. Salir\n",
      "Seleccione una opción: A\n",
      "Valor actual: 1\n",
      "A. Aumentar el valor una unidad\n",
      "D. Disminuye el valor una unidad\n",
      "S. Salir\n",
      "Seleccione una opción: A\n",
      "Valor actual: 2\n",
      "A. Aumentar el valor una unidad\n",
      "D. Disminuye el valor una unidad\n",
      "S. Salir\n",
      "Seleccione una opción: A\n",
      "Valor actual: 3\n",
      "A. Aumentar el valor una unidad\n",
      "D. Disminuye el valor una unidad\n",
      "S. Salir\n",
      "Seleccione una opción: A\n",
      "Valor actual: 4\n",
      "A. Aumentar el valor una unidad\n",
      "D. Disminuye el valor una unidad\n",
      "S. Salir\n",
      "Seleccione una opción: D\n",
      "Valor actual: 3\n",
      "A. Aumentar el valor una unidad\n",
      "D. Disminuye el valor una unidad\n",
      "S. Salir\n",
      "Seleccione una opción: D\n",
      "Valor actual: 2\n",
      "A. Aumentar el valor una unidad\n",
      "D. Disminuye el valor una unidad\n",
      "S. Salir\n",
      "Seleccione una opción: S\n",
      "Saliendo del programa. ¡Hasta luego!\n"
     ]
    }
   ],
   "source": [
    "def crear_contardor():\n",
    "    with open(\"contador.txt\", \"w\") as f:\n",
    "        f.write(\"0\")  \n",
    "    return 0\n",
    "        \n",
    "def mostrar_menu():\n",
    "    print(\"A. Aumentar el valor una unidad\")\n",
    "    print(\"D. Disminuye el valor una unidad\")\n",
    "    print(\"S. Salir\")\n",
    "    \n",
    "def escribir_valor(valor):\n",
    "    with open(\"contador.txt\", \"w\") as f:\n",
    "        f.write(str(valor))\n",
    "    \n",
    "valor = crear_contardor()\n",
    "print(f\"Valor actual: {valor}\")\n",
    "\n",
    "\n",
    "try:\n",
    "    while True:\n",
    "        mostrar_menu()\n",
    "\n",
    "        opcion = input(\"Seleccione una opción: \")\n",
    "\n",
    "        if opcion == \"A\":\n",
    "            valor += 1\n",
    "        elif opcion == \"D\":\n",
    "            valor -= 1\n",
    "        elif opcion == \"S\":\n",
    "            print(\"Saliendo del programa. ¡Hasta luego!\")\n",
    "            break\n",
    "        else:\n",
    "            print(\"Opción no válida. Letra en mayúscula. Intente de nuevo.\")\n",
    "        escribir_valor(valor)\n",
    "        print(f\"Valor actual: {valor}\") \n",
    "                \n",
    "except KeyboardInterrupt:\n",
    "    print(\"\\n¡Operación interrumpida por el usuario!\")"
   ]
  },
  {
   "cell_type": "code",
   "execution_count": null,
   "id": "3875a708",
   "metadata": {},
   "outputs": [],
   "source": []
  }
 ],
 "metadata": {
  "kernelspec": {
   "display_name": "Python 3 (ipykernel)",
   "language": "python",
   "name": "python3"
  },
  "language_info": {
   "codemirror_mode": {
    "name": "ipython",
    "version": 3
   },
   "file_extension": ".py",
   "mimetype": "text/x-python",
   "name": "python",
   "nbconvert_exporter": "python",
   "pygments_lexer": "ipython3",
   "version": "3.11.4"
  }
 },
 "nbformat": 4,
 "nbformat_minor": 5
}
