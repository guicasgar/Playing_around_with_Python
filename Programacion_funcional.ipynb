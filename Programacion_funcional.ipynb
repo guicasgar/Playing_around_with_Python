{
 "cells": [
  {
   "cell_type": "markdown",
   "id": "55451687-3337-4174-8209-23b9985adaf8",
   "metadata": {},
   "source": [
    "## Examen práctico 4"
   ]
  },
  {
   "cell_type": "markdown",
   "id": "cf4e3dc3-00a0-4025-ad87-17567cfe26fe",
   "metadata": {},
   "source": [
    "#### Pregunta 1"
   ]
  },
  {
   "cell_type": "markdown",
   "id": "89b8be1f-67f5-4391-8116-a2147840fc90",
   "metadata": {},
   "source": [
    "Realizar una función que reciba un número entero y retorne el número primo mayor más cercano a un número enviado.\n",
    "\n",
    "mayor_cercano(65) -> 67 es el mayor mas cercano"
   ]
  },
  {
   "cell_type": "code",
   "execution_count": 110,
   "id": "86601c54-8895-431e-9456-4de5d5f2ca39",
   "metadata": {},
   "outputs": [
    {
     "name": "stdout",
     "output_type": "stream",
     "text": [
      "Por favor, introduzca un número: 24\n",
      "29 es el número primo mayor más cercano.\n"
     ]
    }
   ],
   "source": [
    "def es_primo(num):\n",
    "    if num < 2:\n",
    "        return False\n",
    "    for i in range(2, int(num**0.5) + 1):\n",
    "        if num % i == 0:\n",
    "            return False\n",
    "    return True\n",
    "\n",
    "def MayorCercano(n):\n",
    "    m = n + 1\n",
    "    while not es_primo(m):\n",
    "        m += 1\n",
    "    return m\n",
    "\n",
    "n = int(input(\"Por favor, introduzca un número: \"))\n",
    "mayor_cercano = MayorCercano(n)\n",
    "print(f\"{mayor_cercano} es el número primo mayor más cercano.\")"
   ]
  },
  {
   "cell_type": "markdown",
   "id": "f38a31fe-5b9f-4a43-b19d-47c91e2c0958",
   "metadata": {},
   "source": [
    "#### Pregunta 2"
   ]
  },
  {
   "cell_type": "markdown",
   "id": "6850829e-1f0b-4518-9056-3854ca962883",
   "metadata": {},
   "source": [
    "Realizar una función que calcule la potencia K de un número N enviado.\n",
    "\n",
    "potencia(n,k) -> n es el numero, k la potencia.\n",
    "\n",
    "No esta permitido usar \"**\""
   ]
  },
  {
   "cell_type": "code",
   "execution_count": 109,
   "id": "442e8804-70d1-491a-aeee-78bd388c82a3",
   "metadata": {},
   "outputs": [
    {
     "name": "stdout",
     "output_type": "stream",
     "text": [
      "Vamos a calcular la potencia de un número\n",
      "Por favor, introduzca un número: 58\n",
      "Por favor, introduzca la potencia: 6\n",
      "El resultado es 38068692544\n"
     ]
    }
   ],
   "source": [
    "def potencia(n,k):\n",
    "    r = n**k\n",
    "    return r\n",
    "\n",
    "print(\"Vamos a calcular la potencia de un número\")\n",
    "n = int(input(\"Por favor, introduzca un número: \"))\n",
    "k = int(input(\"Por favor, introduzca la potencia: \"))\n",
    "\n",
    "print(f\"El resultado es {potencia(n,k)}\")"
   ]
  },
  {
   "cell_type": "markdown",
   "id": "092db1c5-3fd7-41f7-bad7-4b9e36da95c2",
   "metadata": {},
   "source": [
    "#### Pregunta 3"
   ]
  },
  {
   "cell_type": "markdown",
   "id": "7affb31f-6741-4a9f-b167-ce6fcb979fcd",
   "metadata": {},
   "source": [
    "Realizar una función que permita separar un número en dos números, donde el primero contendra los numeros pares y el otro contendra los impares, la funcion debe devolver los 2 valores.\n",
    "\n",
    "separar(23547896) -> a = 2486 , b = 3579\n",
    "\n",
    "De ser realizado mediante operaciones matemáticas.\n"
   ]
  },
  {
   "cell_type": "code",
   "execution_count": 108,
   "id": "d5932568-64c2-4ea0-b4cd-6808d2c1470f",
   "metadata": {},
   "outputs": [
    {
     "name": "stdout",
     "output_type": "stream",
     "text": [
      "Por favor, introduzca un número : 25487965123\n",
      "Los dígitos pares y los impares sería: ('24862', '579513')\n"
     ]
    }
   ],
   "source": [
    "def SepararParesImpares(a):\n",
    "    impares = \"\"\n",
    "    pares = \"\"\n",
    "    str_a = str(a)\n",
    "    for i in str_a:\n",
    "        digit = int(i)\n",
    "        r = digit%2\n",
    "        if r!=0:\n",
    "            impares = impares + str(digit) \n",
    "        else:\n",
    "            pares = pares + str(digit)\n",
    "    return pares, impares\n",
    "\n",
    "a = int(input(\"Por favor, introduzca un número : \"))\n",
    "\n",
    "print(\"Los dígitos pares y los impares sería:\",SepararParesImpares(a))\n"
   ]
  },
  {
   "cell_type": "markdown",
   "id": "e3cb559b-1692-4dda-9223-dded14508bc1",
   "metadata": {},
   "source": [
    "#### Pregunta 4"
   ]
  },
  {
   "cell_type": "markdown",
   "id": "ec721ab5-da68-4c8b-838f-d92216a796c6",
   "metadata": {},
   "source": [
    "En este ejercicio deberas añadir algunas funciones al ejercicio #9 correspondiente a las fracciones:\n",
    "\n",
    "- Leer_fracción: Mejorar esta función, cuando lea debe simplificar la fracción.\n",
    "- Calcular_mcd: Esta función recibe dos número y devuelve el máximo común divisor.\n",
    "- Simplificar_fracción: Esta función simplifica la fracción, para ello hay que dividir numerador y dominador por el MCD del numerador y denominador.\n",
    "- Multiplicar_fracciones: Función que recibe dos fracciones y calcula el producto, para ello numerador=n1*n2 y denominador=d1*d2. Se debe simplificar la fracción resultado.\n",
    "- Dividir_fracciones: Función que recibe dos fracciones y calcula el cociente, para ello numerador=n1*d2 y denominador=d1*n2. Se debe simplificar la fracción resultado.\n",
    "\n",
    "Añadir las opciones al menú."
   ]
  },
  {
   "cell_type": "code",
   "execution_count": 23,
   "id": "c2e40ed0-5799-4a65-9d7b-52d82aab74b4",
   "metadata": {},
   "outputs": [
    {
     "name": "stdout",
     "output_type": "stream",
     "text": [
      "Por favor, introduzca un valor para el numerador: 8\n",
      "Por favor, introduzca un valor para el denominador: 20\n",
      "Por favor, introduzca un valor para el numerador: 4\n",
      "Por favor, introduzca un valor para el denominador: 14\n",
      "8/20\n",
      "4/14\n",
      "32/280\n",
      "112/80\n",
      "Fracción simplificada: 4/35\n",
      "Fracción simplificada: 7/5\n"
     ]
    }
   ],
   "source": [
    "def leer_fraccion():\n",
    "    n = int(input(\"Por favor, introduzca un valor para el numerador: \"))\n",
    "    d = int(input(\"Por favor, introduzca un valor para el denominador: \"))\n",
    "    return n, d\n",
    "\n",
    "def calcular_mcd(n,d):\n",
    "    while d:\n",
    "        n, d = d, n % d\n",
    "    return n\n",
    "\n",
    "def simplificar_funcion(n,d):\n",
    "    mcd = calcular_mcd(n, d)\n",
    "    num_simplificado = n // mcd\n",
    "    den_simplificado = d // mcd\n",
    "    return num_simplificado, den_simplificado\n",
    "\n",
    "def escribir_fraccion(n,d):\n",
    "    if d==1:\n",
    "        print(n)\n",
    "    elif n==0:\n",
    "        print(0)\n",
    "    else:\n",
    "        print(f'{n}/{d}')\n",
    "    \n",
    "def sumar_fracciones(n1,d1,n2,d2):\n",
    "    resultado_num = n1*d2+n2*d1\n",
    "    resultado_den = d1*d2\n",
    "    return resultado_num,resultado_den\n",
    "    \n",
    "def restar_fracciones(n1,d1,n2,d2):\n",
    "    resultado_num = n1*d2-n2*d1\n",
    "    resultado_den = d1*d2\n",
    "    return resultado_num,resultado_den\n",
    "\n",
    "def multiplicar_fracciones(n1,d1,n2,d2):\n",
    "    resultado_num = n1*n2\n",
    "    resultado_den = d1*d2\n",
    "    return resultado_num,resultado_den\n",
    "\n",
    "def dividir_fracciones(n1,d1,n2,d2):\n",
    "    resultado_num = n1*d2\n",
    "    resultado_den = d1*n2\n",
    "    return resultado_num,resultado_den\n",
    "\n",
    "\n",
    "n1,d1 = leer_fraccion()\n",
    "n2,d2 = leer_fraccion()\n",
    "escribir_fraccion(n1, d1)\n",
    "escribir_fraccion(n2, d2)\n",
    "#resultado_numerador_sum, resultado_denominador_sum = sumar_fracciones(n1, d1, n2, d2)\n",
    "#resultado_numerador_res, resultado_denominador_res = restar_fracciones(n1, d1, n2, d2)\n",
    "\n",
    "#escribir_fraccion(resultado_numerador_sum, resultado_denominador_sum)\n",
    "#escribir_fraccion(resultado_numerador_res, resultado_denominador_res)\n",
    "\n",
    "resultado_numerador_mul, resultado_denominador_mul = multiplicar_fracciones(n1, d1, n2, d2)\n",
    "resultado_numerador_div, resultado_denominador_div = dividir_fracciones(n1, d1, n2, d2)\n",
    "\n",
    "escribir_fraccion(resultado_numerador_mul, resultado_denominador_mul)\n",
    "escribir_fraccion(resultado_numerador_div, resultado_denominador_div)\n",
    "\n",
    "numerador_simplificado, denominador_simplificado = simplificar_funcion(resultado_numerador_mul, resultado_denominador_mul)\n",
    "print(f\"Fracción simplificada: {numerador_simplificado}/{denominador_simplificado}\")\n",
    "numerador_simplificado, denominador_simplificado = simplificar_funcion(resultado_numerador_div, resultado_denominador_div)\n",
    "print(f\"Fracción simplificada: {numerador_simplificado}/{denominador_simplificado}\")\n",
    "\n"
   ]
  },
  {
   "cell_type": "markdown",
   "id": "6b0d59c0-e10c-457b-9390-1db2f31ad4bf",
   "metadata": {},
   "source": [
    "#### Pregunta 5"
   ]
  },
  {
   "cell_type": "markdown",
   "id": "d2d3c498-0707-410c-b3fe-42e3ef245e0b",
   "metadata": {},
   "source": [
    "Escribir dos funciones que permitan calcular:\n",
    "\n",
    "- La cantidad de segundos en un tiempo dado en horas, minutos y segundos.\n",
    "- La cantidad de horas, minutos y segundos de un tiempo dado en segundos.\n",
    "\n",
    "Escribe un programa principal con un menú donde se pueda elegir la opción de convertir a segundos, convertir a horas,minutos y segundos o salir del programa."
   ]
  },
  {
   "cell_type": "code",
   "execution_count": 11,
   "id": "2e7b487a-5182-4e6a-ac05-48e3040efd6b",
   "metadata": {},
   "outputs": [
    {
     "name": "stdout",
     "output_type": "stream",
     "text": [
      "---Menú de elección---\n",
      "Si desea calcular la cantidad de segundos en un tiempo dado en horas, minutos y segundos, por favor, introduzca 1\n",
      "Si desea calcular la cantidad de horas, minutos y segundos de un tiempo dado en segundos, por favor, introduzca 2\n",
      "Si desea salir del programa introduzca 3\n",
      "Su elección es: 2\n",
      "Por favor, introduzca los segundos: 484458852\n",
      "El tiempo total en horas, minutos y segundos es: 134571 horas 54 minutos y 12 segundos.\n"
     ]
    }
   ],
   "source": [
    "from datetime import timedelta\n",
    "\n",
    "def calcular_segundos(horas, minutos, segundos):\n",
    "    tiempo = timedelta(hours=horas, minutes=minutos, seconds=segundos)\n",
    "    total_segundos = tiempo.total_seconds()\n",
    "    return total_segundos\n",
    "\n",
    "def horas_minutos_segundos(tiempo_en_segundos):\n",
    "    horas = tiempo_en_segundos // 3600\n",
    "    minutos = (tiempo_en_segundos % 3600) // 60\n",
    "    segundos = tiempo_en_segundos % 60\n",
    "    return horas, minutos, segundos\n",
    "\n",
    "print(\"---Menú de elección---\")\n",
    "print(\"Si desea calcular la cantidad de segundos en un tiempo dado en horas, minutos y segundos, por favor, introduzca 1\")\n",
    "print(\"Si desea calcular la cantidad de horas, minutos y segundos de un tiempo dado en segundos, por favor, introduzca 2\")\n",
    "print(\"Si desea salir del programa introduzca 3\")\n",
    "eleccion = int(input(\"Su elección es: \"))\n",
    "if eleccion == 1:\n",
    "    horas = int(input(\"Por favor, introduzca las horas: \"))\n",
    "    minutos = int(input(\"Por favor, introduzca los minutos: \"))\n",
    "    segundos = int(input(\"Por favor, introduzca los segundos: \"))\n",
    "    total_segundos = calcular_segundos(horas, minutos, segundos)\n",
    "    print(f\"El tiempo total en segundos es: {total_segundos} segundos.\")\n",
    "elif eleccion == 2:\n",
    "    segundos = int(input(\"Por favor, introduzca los segundos: \"))\n",
    "    horas, minutos, segundos = horas_minutos_segundos(segundos)\n",
    "    print(f\"El tiempo total en horas, minutos y segundos es: {horas} horas {minutos} minutos y {segundos} segundos.\")\n",
    "else:\n",
    "    print(\"Gracias por utilizar el programa. Saludos!\")"
   ]
  },
  {
   "cell_type": "markdown",
   "id": "c9cd9f91-6684-4299-93bc-0713d351774e",
   "metadata": {},
   "source": [
    "#### Pregunta 6"
   ]
  },
  {
   "cell_type": "markdown",
   "id": "22a3c940-ed46-4795-b3cf-663eda5b3a01",
   "metadata": {},
   "source": [
    "Crear una función que permita invertir un número.\n",
    "\n",
    "inversion(4785963) -> 3695874 \n",
    "\n",
    "Esto debe ser realizado mediante operaciones matemáticas."
   ]
  },
  {
   "cell_type": "code",
   "execution_count": 53,
   "id": "a7eb474e",
   "metadata": {},
   "outputs": [
    {
     "name": "stdout",
     "output_type": "stream",
     "text": [
      "Por favor introduzca un número: 4849856\n",
      "El número invertido es: 6589484\n"
     ]
    }
   ],
   "source": [
    "def invertir_numero(a):\n",
    "    c = \"\"\n",
    "    d = 0\n",
    "    while a:\n",
    "        b = a%10\n",
    "        a = a//10\n",
    "        c = c+str(b)\n",
    "    return c\n",
    "\n",
    "a = int(input(\"Por favor introduzca un número: \"))\n",
    "inversion = invertir_numero(a)\n",
    "print(f\"El número invertido es: {inversion}\")"
   ]
  },
  {
   "cell_type": "markdown",
   "id": "8d4300b8-119c-41f9-9166-5a8d8012939d",
   "metadata": {},
   "source": []
  },
  {
   "cell_type": "markdown",
   "id": "a988f9b3-2799-4558-9a71-b17082b868be",
   "metadata": {},
   "source": [
    "#### Pregunta 7"
   ]
  },
  {
   "cell_type": "markdown",
   "id": "46c27448-879e-4520-be4d-8a1218ca9ce8",
   "metadata": {},
   "source": [
    "Definir una función generar_n_caracteres() que tome un entero n y devuelva el caracter\n",
    "multiplicado por n. Por ejemplo: generar_n_caracteres(5, \"x\") debería devolver \"xxxxx\"."
   ]
  },
  {
   "cell_type": "code",
   "execution_count": 61,
   "id": "b678d857-1636-4334-b2e6-0eadf57df4dc",
   "metadata": {},
   "outputs": [
    {
     "name": "stdout",
     "output_type": "stream",
     "text": [
      "Escriba una palabra: hola\n",
      "indique el número de veces por el que quiere multiplicar esa palabra: 3\n",
      "holaholahola\n"
     ]
    }
   ],
   "source": [
    "def generar_n_caracteres(n,caracter):\n",
    "    return caracter*n\n",
    "    \n",
    "caracter = input(\"Escriba una palabra: \")\n",
    "n = int(input(\"indique el número de veces por el que quiere multiplicar esa palabra: \"))\n",
    "resolucion = generar_n_caracteres(n,caracter)\n",
    "print(resolucion)"
   ]
  },
  {
   "cell_type": "markdown",
   "id": "b0dfd81b-4a43-4773-a2d3-0f44ec44d221",
   "metadata": {},
   "source": [
    "#### Pregunta 8"
   ]
  },
  {
   "cell_type": "markdown",
   "id": "2acdbb4c-4773-47ed-a66a-91a5b4dcce36",
   "metadata": {},
   "source": [
    "Crear una función que permita generar numeros primos, esta función recibira un parametro que sera la cantidad de numeros primos a generar los numeros generados deben ser devueltos en un solo numero de tipo entero.\n",
    "\n",
    "Ejemplo:\n",
    "\n",
    "generar_primos(5) >> 235711"
   ]
  },
  {
   "cell_type": "code",
   "execution_count": 77,
   "id": "5e68ac55-b1a3-4ad2-b1ca-c09b2d355f4c",
   "metadata": {},
   "outputs": [
    {
     "name": "stdout",
     "output_type": "stream",
     "text": [
      "Por favor, indique cuántos números primos quiere obtener: 15\n",
      "2 3 5 7 11 13 17 19 23 29 31 37 41 43 47 \n"
     ]
    }
   ],
   "source": [
    "def generar_primos(n):\n",
    "    i = 2\n",
    "    p = \"\"\n",
    "    while len(p.split()) < n:\n",
    "        es_primo = True\n",
    "        for j in range(2, int(i**0.5) + 1):\n",
    "            if i % j == 0:            \n",
    "                es_primo = False\n",
    "                break\n",
    "        if es_primo:\n",
    "            p += str(i) + \" \"\n",
    "        i+=1\n",
    "    return p\n",
    "              \n",
    "n = int(input(\"Por favor, indique cuántos números primos quiere obtener: \"))\n",
    "resultado = generar_primos(n)\n",
    "print(resultado)"
   ]
  },
  {
   "cell_type": "markdown",
   "id": "7169a1e2-fd2e-40f2-9256-fccb533bbd54",
   "metadata": {},
   "source": [
    "#### Pregunta 9"
   ]
  },
  {
   "cell_type": "markdown",
   "id": "23b6e4a8-ee27-469e-b3d0-a0812556b8a6",
   "metadata": {},
   "source": [
    "Crear una función que permita calcular la suma de los digitos del factorial de un número, la función recibirá un número que indicará el factorial a calcular, posteriormente se deberan sumar los digitos de ese factorial.\n",
    "\n",
    "Ejemplo:\n",
    "\n",
    "suma_factorial(4) >> factorial 24 >> 6 resultado a devolver"
   ]
  },
  {
   "cell_type": "code",
   "execution_count": 107,
   "id": "653004f0-2239-4bd6-b8b3-976bfbf8a529",
   "metadata": {},
   "outputs": [
    {
     "name": "stdout",
     "output_type": "stream",
     "text": [
      "Por favor, introduzca un número: 4\n",
      "La suma de los dígitos del factorial de 4 es 6, cuyo factorial es 24\n"
     ]
    }
   ],
   "source": [
    "def suma_factorial(n):\n",
    "    fact = 1\n",
    "    for i in range(1, n + 1):\n",
    "        fact *= i\n",
    "    str_fact = str(fact)\n",
    "    suma_digitos = 0\n",
    "    \n",
    "    for digit in str_fact:\n",
    "        suma_digitos += int(digit)\n",
    "\n",
    "    return suma_digitos, fact\n",
    "\n",
    "n = int(input(\"Por favor, introduzca un número: \"))\n",
    "resultado = suma_factorial(n)\n",
    "print(f\"La suma de los dígitos del factorial de {n} es {resultado[0]}, cuyo factorial es {resultado[1]}\")"
   ]
  },
  {
   "cell_type": "markdown",
   "id": "fc388caa-ff04-4ff4-ab6f-7b57c1b91367",
   "metadata": {},
   "source": [
    "#### Pregunta 10"
   ]
  },
  {
   "cell_type": "markdown",
   "id": "eb300f02-fcb7-4561-94e5-44c2a22c8da8",
   "metadata": {},
   "source": [
    "Crear una función que permita converir un número a su equivalente en Hexadecimal..\n",
    "\n",
    "dec_to_hex(12) >>> C\n",
    "\n",
    "**Nota:** No esta permitido utilizar métodos de conversión directa, el ejercicio debe ser realizado desde cero."
   ]
  },
  {
   "cell_type": "code",
   "execution_count": 97,
   "id": "78ca73f4-3785-44f9-83ce-925638cc2409",
   "metadata": {},
   "outputs": [
    {
     "name": "stdout",
     "output_type": "stream",
     "text": [
      "Por favor, introduzca un número: 222\n",
      "44\n"
     ]
    }
   ],
   "source": [
    "def dec_to_hex(n):\n",
    "    if numero < 0:\n",
    "        return \"El número debe ser no negativo.\"\n",
    "\n",
    "    hex_chars = \"0123456789ABCDEF\"\n",
    "    result_hex = \"\"\n",
    "\n",
    "    while n > 0:\n",
    "        m = numero % 16\n",
    "        result_hex = hex_chars[m] + result_hex\n",
    "        n //= 16\n",
    "\n",
    "    return result_hex\n",
    "\n",
    "n = int(input(\"Por favor, introduzca un número: \"))\n",
    "resultado = dec_to_hex(n)\n",
    "print(resultado)"
   ]
  }
 ],
 "metadata": {
  "kernelspec": {
   "display_name": "Python 3 (ipykernel)",
   "language": "python",
   "name": "python3"
  },
  "language_info": {
   "codemirror_mode": {
    "name": "ipython",
    "version": 3
   },
   "file_extension": ".py",
   "mimetype": "text/x-python",
   "name": "python",
   "nbconvert_exporter": "python",
   "pygments_lexer": "ipython3",
   "version": "3.11.4"
  }
 },
 "nbformat": 4,
 "nbformat_minor": 5
}
