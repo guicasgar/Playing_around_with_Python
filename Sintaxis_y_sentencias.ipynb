{
 "cells": [
  {
   "cell_type": "markdown",
   "id": "55451687-3337-4174-8209-23b9985adaf8",
   "metadata": {},
   "source": [
    "## Examen práctico 3"
   ]
  },
  {
   "cell_type": "markdown",
   "id": "cf4e3dc3-00a0-4025-ad87-17567cfe26fe",
   "metadata": {},
   "source": [
    "#### Pregunta 1"
   ]
  },
  {
   "cell_type": "markdown",
   "id": "89b8be1f-67f5-4391-8116-a2147840fc90",
   "metadata": {},
   "source": [
    "Escribir un programa que almacene la cadena de caracteres **contraseña** en una variable, pregunte al usuario por la contraseña e imprima por pantalla si la contraseña introducida por el usuario coincide con la guardada en la variable sin tener en cuenta mayúsculas y minúsculas."
   ]
  },
  {
   "cell_type": "code",
   "execution_count": 25,
   "id": "97fdd2d5-760c-4f6c-9b49-3c3290297269",
   "metadata": {},
   "outputs": [
    {
     "name": "stdout",
     "output_type": "stream",
     "text": [
      "Por favor, introduzca la contraseña: Alcoba34\n",
      "Accediendo... \n"
     ]
    }
   ],
   "source": [
    "contraseña = \"alcoba34\"\n",
    "respuesta = input(\"Por favor, introduzca la contraseña: \")\n",
    "\n",
    "while True:\n",
    "    if respuesta == contraseña or respuesta == \"Alcoba34\":\n",
    "        print(\"Accediendo... \")\n",
    "        break\n",
    "    else: \n",
    "        print(\"Acceso denagado. La contraseña no coincide.\")\n",
    "        respuesta = input(\"Por favor, introduzca la contraseña: \")\n",
    "    "
   ]
  },
  {
   "cell_type": "markdown",
   "id": "f38a31fe-5b9f-4a43-b19d-47c91e2c0958",
   "metadata": {},
   "source": [
    "#### Pregunta 2"
   ]
  },
  {
   "cell_type": "markdown",
   "id": "6850829e-1f0b-4518-9056-3854ca962883",
   "metadata": {},
   "source": [
    "Escribir un programa que pida al usuario dos números (dividendo y divisor) y muestre por pantalla su división. Si el divisor es cero el programa debe mostrar un mensaje de error."
   ]
  },
  {
   "cell_type": "code",
   "execution_count": 34,
   "id": "442e8804-70d1-491a-aeee-78bd388c82a3",
   "metadata": {},
   "outputs": [
    {
     "name": "stdout",
     "output_type": "stream",
     "text": [
      "Por favor, introduzca un número como dividendo de una división: 1548\n",
      "Por favor, introduzca otro número como divisor de la división: 0\n",
      "Lo siento, debes de introducir un divisor mayor que 0\n",
      "Por favor, introduzca otro número como divisor de la división: 251\n",
      "6.17\n"
     ]
    }
   ],
   "source": [
    "dividendo = int(input(\"Por favor, introduzca un número como dividendo de una división: \"))\n",
    "divisor = int(input(\"Por favor, introduzca otro número como divisor de la división: \"))\n",
    "\n",
    "while divisor > 0:\n",
    "    división = dividendo/divisor\n",
    "    print(f'{división:.2f}')\n",
    "    break\n",
    "else:\n",
    "    print(\"Lo siento, debes de introducir un divisor mayor que 0\")\n",
    "    divisor = int(input(\"Por favor, introduzca otro número como divisor de la división: \"))\n",
    "    división = dividendo/divisor\n",
    "    print(f'{división:.2f}')"
   ]
  },
  {
   "cell_type": "markdown",
   "id": "092db1c5-3fd7-41f7-bad7-4b9e36da95c2",
   "metadata": {},
   "source": [
    "#### Pregunta 3"
   ]
  },
  {
   "cell_type": "markdown",
   "id": "7affb31f-6741-4a9f-b167-ce6fcb979fcd",
   "metadata": {},
   "source": [
    "Para tributar un determinado impuesto debe tener 16 años cumplidos  o mas y tener unos ingresos iguales o superiores a 1500 € mensuales.\n",
    "\n",
    "- Sueldo >= 1500€ es 5%\n",
    "- Sueldo >= 2500€ es 8%\n",
    "- Sueldo >= 5000€ es 10%\n",
    "\n",
    "Escribir un programa que pregunte al usuario su edad y sus ingresos mensuales para luego mostrar por pantalla si el usuario tiene que tributar o no y calcular su impuesto segun su ingreso.\n"
   ]
  },
  {
   "cell_type": "code",
   "execution_count": 38,
   "id": "d5932568-64c2-4ea0-b4cd-6808d2c1470f",
   "metadata": {},
   "outputs": [
    {
     "name": "stdout",
     "output_type": "stream",
     "text": [
      "Vamos a calcular sus impuestos tributados\n",
      "Por favor, indique su edad: 17\n",
      "Por favor, indique sus ingresos mensuales: 1600\n",
      "ok, usted tendría que tributar\n",
      "Usted debe tributar 80.0€\n"
     ]
    }
   ],
   "source": [
    "print(\"Vamos a calcular sus impuestos tributados\")\n",
    "edad = int(input(\"Por favor, indique su edad: \"))\n",
    "ingreso = int(input(\"Por favor, indique sus ingresos mensuales: \"))\n",
    "\n",
    "sueldo1 = 1500\n",
    "sueldo2 = 2500\n",
    "sueldo3 = 5000\n",
    "\n",
    "while edad > 16:\n",
    "    print(\"ok, usted tendría que tributar\")\n",
    "    if ingreso >= 1500 or ingreso <=2499:\n",
    "        tributo = ingreso*0.05\n",
    "        print(f\"Usted debe tributar {tributo}€\")\n",
    "        break\n",
    "else:\n",
    "    print(\"Usted no tiene que tributar\")"
   ]
  },
  {
   "cell_type": "markdown",
   "id": "e3cb559b-1692-4dda-9223-dded14508bc1",
   "metadata": {},
   "source": [
    "#### Pregunta 4"
   ]
  },
  {
   "cell_type": "markdown",
   "id": "ec721ab5-da68-4c8b-838f-d92216a796c6",
   "metadata": {},
   "source": [
    "Los alumnos de un curso se han dividido en dos grupos A y B de acuerdo al sexo y el nombre. El grupo A esta formado por las mujeres con un nombre entre la L y S y los hombres con un nombre entre A-K y la T-Z, el grupo B por las mujeres entre A-K y T-Z y los hombres entre la L-S. Escribir un programa que pregunte al usuario su nombre y sexo, y muestre por pantalla el grupo que le corresponde."
   ]
  },
  {
   "cell_type": "code",
   "execution_count": 50,
   "id": "c2e40ed0-5799-4a65-9d7b-52d82aab74b4",
   "metadata": {},
   "outputs": [
    {
     "name": "stdout",
     "output_type": "stream",
     "text": [
      "Por favor, indique si es hombre o mujer: ewf\n",
      "Por favor, introduzca su nombre: wef\n",
      "Prueba de nuevo, listillo\n"
     ]
    }
   ],
   "source": [
    "sexo = input(\"Por favor, indique si es hombre o mujer: \")\n",
    "nombre = input(\"Por favor, introduzca su nombre: \")\n",
    "\n",
    "nombre = nombre[0].upper()\n",
    "\n",
    "if sexo == 'hombre' and nombre in ('A', 'B', 'C', 'D', 'E', 'F', 'G', 'H', 'I', 'J', 'K', 'T', 'U', 'V', 'W', 'X', 'Y', 'Z'): \n",
    "    print(\"Perteneces al grupo A\")\n",
    "\n",
    "elif sexo == 'mujer' and nombre=='L' or nombre=='M' or nombre=='N' or nombre=='S': \n",
    "    print(\"Perteneces al grupo A\")\n",
    "\n",
    "elif sexo == 'hombre' and nombre=='L' or nombre=='M' or nombre=='N' or nombre=='S': \n",
    "    print(\"Perteneces al grupo B\")\n",
    "\n",
    "elif sexo == 'mujer' and nombre in ('A', 'B', 'C', 'D', 'E', 'F', 'G', 'H', 'I', 'J', 'K', 'T', 'U', 'V', 'W', 'X', 'Y', 'Z'): \n",
    "    print(\"Perteneces al grupo B\")\n",
    "    \n",
    "else:\n",
    "    print('Prueba de nuevo, listillo')\n",
    "       "
   ]
  },
  {
   "cell_type": "markdown",
   "id": "6b0d59c0-e10c-457b-9390-1db2f31ad4bf",
   "metadata": {},
   "source": [
    "#### Pregunta 5"
   ]
  },
  {
   "cell_type": "markdown",
   "id": "d2d3c498-0707-410c-b3fe-42e3ef245e0b",
   "metadata": {},
   "source": [
    "La pizzería Vera Pizza ofrece pizzas vegetarianas y no vegetarianas a sus clientes. Los ingredientes para cada tipo de pizza aparecen a continuación.\n",
    "\n",
    "- Ingredientes base: Mozzarela y Tomate (7€)\n",
    "\n",
    "- Ingredientes vegetarianos: Pimiento y tofu (2€ c/u).\n",
    "- Ingredientes no vegetarianos: Peperoni, Jamón y Salmón (2.5€ c/u).\n",
    "\n",
    "Escribir un programa que pregunte al usuario si quiere una pizza vegetariana o no, y en función de su respuesta le muestre un menú con los ingredientes disponibles para que elija. Solo se puede eligir un ingrediente además de la mozzarella y el tomate que están en todas la pizzas. Al final se debe mostrar por pantalla si la pizza elegida es vegetariana o no y todos los ingredientes que lleva y el precio total de la pizza.\n",
    "\n",
    "El programa debe ejecutarse de la siguiente manera:"
   ]
  },
  {
   "cell_type": "raw",
   "id": "2b010489-689b-4206-b8b2-3dea56b6ca19",
   "metadata": {},
   "source": [
    "  \n",
    "Bienvenido a la pizzeria Vera Pizza.\n",
    "Elija su tipo:\n",
    "+----------------------+\n",
    "| 1- Vegetariana       |\n",
    "+----------------------+\n",
    "| 2- No vegetariana    |\n",
    "+----------------------+\n",
    " \n",
    "[i] Ha elegido Pizza Vegetariana\n",
    "\n",
    "Elija un ingrediente vegetariano (2€ c/u):\n",
    "\n",
    "+----------------------+\n",
    "| 1- Pimiento          |\n",
    "+----------------------+\n",
    "| 2- Tofu              |\n",
    "+----------------------+\n",
    "\n",
    "[i] Ha elegido Tofu\n",
    "\n",
    "Detalle:\n",
    "Pizza Vegetariana con mozarrella, tomate y Tofu.\n",
    "+-------------------------+\n",
    "|  Item       |  Precio   |\n",
    "+-------------------------+\n",
    "|Pizza Base   |  7 €      |\n",
    "| Tofu        |  2 €      |\n",
    "+-------------------------+\n",
    "| Total       |  9 €      |\n",
    "+-------------------------+"
   ]
  },
  {
   "cell_type": "code",
   "execution_count": 16,
   "id": "2e7b487a-5182-4e6a-ac05-48e3040efd6b",
   "metadata": {},
   "outputs": [
    {
     "name": "stdout",
     "output_type": "stream",
     "text": [
      "Bienvenido a la pizzeria Vera Pizza.\n",
      "Por favor, indique si quiere un pizza vegetariana o no: ko\n",
      "Me parece que no lo tiene claro\n"
     ]
    }
   ],
   "source": [
    "print(\"Bienvenido a la pizzeria Vera Pizza.\")\n",
    "\n",
    "respuesta = input('Por favor, indique si quiere un pizza vegetariana o no: ')\n",
    "\n",
    "if respuesta == 'si' or respuesta == 'Si' or respuesta == 'SI' or respuesta == 'sI':\n",
    "    print(\"Ha elegido Pizza Vegetariana\")\n",
    "    print(\"+----------------------+\")\n",
    "    print(\"| 1- Pimiento          |\")\n",
    "    print(\"+----------------------+\")\n",
    "    print(\"| 2- Tofu              |\")\n",
    "    print(\"+----------------------+\")\n",
    "    ingrediente = input(\"Por favor, elija un ingrediente vegetariano (2€ c/u), el 1 o el 2: \")\n",
    "    if ingrediente == \"1\":\n",
    "        print(\"Ha elegido Pimiento\")\n",
    "        print(\"Detalle:\")\n",
    "        print(\"Pizza Vegetariana con mozarrella, tomate y pimiento.\")\n",
    "        print(\"+-------------------------+\")\n",
    "        print(\"|  Item       |  Precio   |\")\n",
    "        print(\"+-------------------------+\")\n",
    "        print(\"|Pizza Base   |  7 €      |\")\n",
    "        print(\"| Pimiento    |  2 €      |\")\n",
    "        print(\"+-------------------------+\")\n",
    "        print(\"| Total       |  9 €      |\")\n",
    "        print(\"+-------------------------+\")\n",
    "    elif ingrediente == \"2\":\n",
    "        print(\"Ha elegido tofu\")\n",
    "        print(\"Detalle:\")\n",
    "        print(\"Pizza Vegetariana con mozarrella, tomate y pimiento.\")\n",
    "        print(\"+-------------------------+\")\n",
    "        print(\"|  Item       |  Precio   |\")\n",
    "        print(\"+-------------------------+\")\n",
    "        print(\"|Pizza Base   |  7 €      |\")\n",
    "        print(\"| tofu        |  2 €      |\")\n",
    "        print(\"+-------------------------+\")\n",
    "        print(\"| Total       |  9 €      |\")\n",
    "        print(\"+-------------------------+\")\n",
    "elif respuesta == 'no' or respuesta == 'No' or respuesta == 'NO' or respuesta == 'nO':\n",
    "    print(\"Ha elegido Pizza No Vegetariana\")\n",
    "    print(\"+----------------------+\")\n",
    "    print(\"| 1- Pepperoni         |\")\n",
    "    print(\"+----------------------+\")\n",
    "    print(\"| 2- Jamón             |\")\n",
    "    print(\"+----------------------+\")\n",
    "    print(\"| 3- Salmón            |\")\n",
    "    print(\"+----------------------+\")\n",
    "    ingrediente = input(\"Por favor, elija un ingrediente no vegetariano de la lista (2€ c/u): 1, 2 o 3 \")\n",
    "    if ingrediente == \"1\":\n",
    "        print(\"Ha elegido Pepperoni\")\n",
    "        print(\"Detalle:\")\n",
    "        print(\"Pizza No Vegetariana con mozarrella, tomate y Pepperoni.\")\n",
    "        print(\"+-------------------------+\")\n",
    "        print(\"|  Item       |  Precio   |\")\n",
    "        print(\"+-------------------------+\")\n",
    "        print(\"|Pizza Base   |  7   €    |\")\n",
    "        print(\"| Pepperoni   |  2'5 €    |\")\n",
    "        print(\"+-------------------------+\")\n",
    "        print(\"| Total       |  9'5 €    |\")\n",
    "        print(\"+-------------------------+\")\n",
    "    elif ingrediente == \"2\":\n",
    "        print(\"Ha elegido Jamón\")\n",
    "        print(\"Detalle:\")\n",
    "        print(\"Pizza No Vegetariana con mozarrella, tomate y Jamón.\")\n",
    "        print(\"+-------------------------+\")\n",
    "        print(\"|  Item       |  Precio   |\")\n",
    "        print(\"+-------------------------+\")\n",
    "        print(\"|Pizza Base   |  7   €    |\")\n",
    "        print(\"| Jamón       |  2'5 €    |\")\n",
    "        print(\"+-------------------------+\")\n",
    "        print(\"| Total       |  9'5 €    |\")\n",
    "        print(\"+-------------------------+\")\n",
    "    elif ingrediente == \"3\":\n",
    "        print(\"Ha elegido Salmón\")\n",
    "        print(\"Detalle:\")\n",
    "        print(\"Pizza No Vegetariana con mozarrella, tomate y Salmón.\")\n",
    "        print(\"+-------------------------+\")\n",
    "        print(\"|  Item       |  Precio   |\")\n",
    "        print(\"+-------------------------+\")\n",
    "        print(\"|Pizza Base   |  7   €    |\")\n",
    "        print(\"| Salmón      |  2'5 €    |\")\n",
    "        print(\"+-------------------------+\")\n",
    "        print(\"| Total       |  9'5 €    |\")\n",
    "        print(\"+-------------------------+\")\n",
    "else:\n",
    "    print(\"Me parece que no lo tiene claro\")\n",
    "\n",
    "        \n",
    "    "
   ]
  },
  {
   "cell_type": "markdown",
   "id": "c9cd9f91-6684-4299-93bc-0713d351774e",
   "metadata": {},
   "source": [
    "#### Pregunta 6"
   ]
  },
  {
   "cell_type": "markdown",
   "id": "22a3c940-ed46-4795-b3cf-663eda5b3a01",
   "metadata": {},
   "source": [
    "Escribir un programa que muestre el eco de todo lo que el usuario introduzca hasta que el usuario escriba “salir” que terminará."
   ]
  },
  {
   "cell_type": "code",
   "execution_count": 24,
   "id": "d8feda00",
   "metadata": {},
   "outputs": [
    {
     "name": "stdout",
     "output_type": "stream",
     "text": [
      "Escriba algo: hola\n",
      "hola\n",
      "esto continuará a no ser que escribas 'salir': Hola\n",
      "Hola\n",
      "esto continuará a no ser que escribas 'salir': anda ya\n",
      "anda ya\n",
      "esto continuará a no ser que escribas 'salir': salir\n",
      "¡Venga, hasta luego!\n"
     ]
    }
   ],
   "source": [
    "respuesta = input(\"Escriba algo: \")\n",
    "\n",
    "while True:\n",
    "    if respuesta == \"salir\":\n",
    "        print(\"¡Venga, hasta luego!\")\n",
    "        break        \n",
    "    elif respuesta != \"\":\n",
    "        print(respuesta)\n",
    "        respuesta = input(\"esto continuará a no ser que escribas 'salir': \")"
   ]
  },
  {
   "cell_type": "markdown",
   "id": "a988f9b3-2799-4558-9a71-b17082b868be",
   "metadata": {},
   "source": [
    "#### Pregunta 7"
   ]
  },
  {
   "cell_type": "markdown",
   "id": "46c27448-879e-4520-be4d-8a1218ca9ce8",
   "metadata": {},
   "source": [
    "Realizar un programa en Python que imprima el siguiente patron con el bucle while, debe consultar previamente la altura de la figura. En el siguiente ejemplo la altura es 5."
   ]
  },
  {
   "cell_type": "raw",
   "id": "e664cafe-433c-4c48-8a94-976bb98afc1e",
   "metadata": {},
   "source": [
    "1\n",
    "12\n",
    "123\n",
    "1234\n",
    "12345"
   ]
  },
  {
   "cell_type": "code",
   "execution_count": 12,
   "id": "b678d857-1636-4334-b2e6-0eadf57df4dc",
   "metadata": {},
   "outputs": [
    {
     "name": "stdout",
     "output_type": "stream",
     "text": [
      "1\n",
      "12\n",
      "123\n",
      "1234\n",
      "12345\n"
     ]
    }
   ],
   "source": [
    "n = 5\n",
    "con = 0\n",
    "c = \"\"\n",
    "\n",
    "while n > con:\n",
    "    con += 1\n",
    "    #print(con)\n",
    "    #print(\"------------\")\n",
    "    c = c + str(con)\n",
    "    print(c)\n",
    "    #print(\"------------\")"
   ]
  },
  {
   "cell_type": "markdown",
   "id": "b0dfd81b-4a43-4773-a2d3-0f44ec44d221",
   "metadata": {},
   "source": [
    "#### Pregunta 8"
   ]
  },
  {
   "cell_type": "markdown",
   "id": "2acdbb4c-4773-47ed-a66a-91a5b4dcce36",
   "metadata": {},
   "source": [
    "Imprimir la siguiente figura:"
   ]
  },
  {
   "cell_type": "raw",
   "id": "3dfea621-74da-4f49-86e3-886b9aea3042",
   "metadata": {},
   "source": [
    "    *\n",
    "   **\n",
    "  ***\n",
    " ****\n",
    "*****"
   ]
  },
  {
   "cell_type": "code",
   "execution_count": 41,
   "id": "5e68ac55-b1a3-4ad2-b1ca-c09b2d355f4c",
   "metadata": {},
   "outputs": [
    {
     "name": "stdout",
     "output_type": "stream",
     "text": [
      "     *\n",
      "    **\n",
      "   ***\n",
      "  ****\n",
      " *****\n"
     ]
    }
   ],
   "source": [
    "n = 5\n",
    "\n",
    "for i in range(1, n+1):\n",
    "    a = i*'*'\n",
    "    print(\" \"*(n-i), a)"
   ]
  },
  {
   "cell_type": "markdown",
   "id": "7169a1e2-fd2e-40f2-9256-fccb533bbd54",
   "metadata": {},
   "source": [
    "#### Pregunta 9"
   ]
  },
  {
   "cell_type": "markdown",
   "id": "23b6e4a8-ee27-469e-b3d0-a0812556b8a6",
   "metadata": {},
   "source": [
    "Realizar un programa en Python que permita imprimir el arbol de los impares, debe consultar la altura, en el siguiente ejemplo la altura es 4:"
   ]
  },
  {
   "cell_type": "raw",
   "id": "dc7a5211-7629-40b1-a441-a12828f72f0f",
   "metadata": {},
   "source": [
    "   1\n",
    "  313\n",
    " 53135\n",
    "7531357"
   ]
  },
  {
   "cell_type": "code",
   "execution_count": 21,
   "id": "6c5d8c62",
   "metadata": {},
   "outputs": [
    {
     "name": "stdout",
     "output_type": "stream",
     "text": [
      "    1    \n",
      "   313   \n",
      "  53135  \n",
      " 7531357 \n",
      "975313579\n"
     ]
    }
   ],
   "source": [
    "n = 5\n",
    "con = 1\n",
    "i = 0\n",
    "c = \"\"\n",
    "a = n + (n-1)\n",
    "while i < n:\n",
    "    if i == 0:\n",
    "        c = c + str(con)\n",
    "    else:\n",
    "        c = str(con) + c + str(con) \n",
    "    print(c.center(a))\n",
    "    con += 2\n",
    "    #print(con)\n",
    "    #print(\"------------\")\n",
    "    i+=1\n",
    "    #print(\"------------\")\n",
    "    #print(\" \"*(n-i), a)"
   ]
  },
  {
   "cell_type": "markdown",
   "id": "fc388caa-ff04-4ff4-ab6f-7b57c1b91367",
   "metadata": {},
   "source": [
    "#### Pregunta 10"
   ]
  },
  {
   "cell_type": "markdown",
   "id": "eb300f02-fcb7-4561-94e5-44c2a22c8da8",
   "metadata": {},
   "source": [
    "Escribir un programa que permita saber cuantos números primos hay en un determinado rango de numeros. El rango estara entre 0 y un numero proporcionado por el usuario. Debera imprimir los numeros primos y al final el total.\n",
    "\n",
    "El programa debe ejecutarse de la siguiente manera:"
   ]
  },
  {
   "cell_type": "raw",
   "id": "4345b973-33aa-4865-a359-c04a8cd4a389",
   "metadata": {},
   "source": [
    "Introduce un numero entero mayor que 0:  10\n",
    "2 es un numero primo\n",
    "3 es un numero primo\n",
    "5 es un numero primo\n",
    "7 es un numero primo\n",
    "Hay 4 numeros primos entre 0 y 10"
   ]
  },
  {
   "cell_type": "code",
   "execution_count": 62,
   "id": "71d4ee07-ddf6-470e-871e-168819117a05",
   "metadata": {},
   "outputs": [
    {
     "name": "stdout",
     "output_type": "stream",
     "text": [
      "Por favor, introduzca un número entero: 19\n",
      "1\n",
      "2 es primo\n",
      "1\n",
      "3 es primo\n",
      "2\n",
      "4\n",
      "2\n",
      "0\n",
      "2\n",
      "5\n",
      "2\n",
      "1\n",
      "5 es primo\n",
      "2\n",
      "6\n",
      "2\n",
      "0\n",
      "2\n",
      "7\n",
      "2\n",
      "1\n",
      "7 es primo\n",
      "2\n",
      "8\n",
      "2\n",
      "0\n",
      "3\n",
      "9\n",
      "2\n",
      "1\n",
      "9\n",
      "3\n",
      "0\n",
      "3\n",
      "10\n",
      "2\n",
      "0\n",
      "3\n",
      "11\n",
      "2\n",
      "1\n",
      "11\n",
      "3\n",
      "2\n",
      "11 es primo\n",
      "3\n",
      "12\n",
      "2\n",
      "0\n",
      "3\n",
      "13\n",
      "2\n",
      "1\n",
      "13\n",
      "3\n",
      "1\n",
      "13 es primo\n",
      "3\n",
      "14\n",
      "2\n",
      "0\n",
      "3\n",
      "15\n",
      "2\n",
      "1\n",
      "15\n",
      "3\n",
      "0\n",
      "4\n",
      "16\n",
      "2\n",
      "0\n",
      "4\n",
      "17\n",
      "2\n",
      "1\n",
      "17\n",
      "3\n",
      "2\n",
      "17\n",
      "4\n",
      "1\n",
      "17 es primo\n",
      "4\n",
      "18\n",
      "2\n",
      "0\n",
      "4\n",
      "19\n",
      "2\n",
      "1\n",
      "19\n",
      "3\n",
      "1\n",
      "19\n",
      "4\n",
      "3\n",
      "19 es primo\n"
     ]
    }
   ],
   "source": [
    "num = int(input(\"Por favor, introduzca un número entero: \"))\n",
    "\n",
    "for i in range(2, num+1):\n",
    "    es_primo = True\n",
    "    print(int(i**0.5))\n",
    "    for j in range(2, int(i**0.5) + 1):\n",
    "        print(i)\n",
    "        print(j)\n",
    "        print(i%j)\n",
    "        if i % j == 0:            \n",
    "            es_primo = False\n",
    "            break\n",
    "    if es_primo:\n",
    "        print(f\"{i} es primo\")"
   ]
  },
  {
   "cell_type": "code",
   "execution_count": null,
   "id": "d7f4d174",
   "metadata": {},
   "outputs": [],
   "source": []
  }
 ],
 "metadata": {
  "kernelspec": {
   "display_name": "Python 3 (ipykernel)",
   "language": "python",
   "name": "python3"
  },
  "language_info": {
   "codemirror_mode": {
    "name": "ipython",
    "version": 3
   },
   "file_extension": ".py",
   "mimetype": "text/x-python",
   "name": "python",
   "nbconvert_exporter": "python",
   "pygments_lexer": "ipython3",
   "version": "3.11.4"
  }
 },
 "nbformat": 4,
 "nbformat_minor": 5
}
