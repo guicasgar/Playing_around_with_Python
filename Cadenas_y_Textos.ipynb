{
 "cells": [
  {
   "cell_type": "markdown",
   "id": "7018f1c6-be43-46a5-a3be-b87141fbf234",
   "metadata": {},
   "source": [
    "## Examen Práctico 7"
   ]
  },
  {
   "cell_type": "markdown",
   "id": "b551a357-c82b-4a9f-8496-bd69dc70659c",
   "metadata": {},
   "source": [
    "#### Pregunta 1 (0.5 pts)"
   ]
  },
  {
   "cell_type": "markdown",
   "id": "3ddd5d4a-ff38-4a2c-92f2-73551852e22f",
   "metadata": {},
   "source": [
    "Realizar un programa en Python que permita contar la cantidad de palabras de una frase ingresada por el usuario.\n",
    "\n",
    "Nota: Solo esta permitido usar los métodos básicos como len,upper y lower."
   ]
  },
  {
   "cell_type": "code",
   "execution_count": 4,
   "id": "2c5f2bab-b6ab-4a61-860b-f9b8e1cb00e8",
   "metadata": {},
   "outputs": [
    {
     "name": "stdout",
     "output_type": "stream",
     "text": [
      "Por favor, introduzca una frase: Por favor, introduzca una frase\n"
     ]
    },
    {
     "data": {
      "text/plain": [
       "5"
      ]
     },
     "execution_count": 4,
     "metadata": {},
     "output_type": "execute_result"
    }
   ],
   "source": [
    "def contar_palabras(frase):\n",
    "    palabras = frase.split()\n",
    "    r = len(palabras)\n",
    "    return r\n",
    "\n",
    "frase = input(\"Por favor, introduzca una frase: \")\n",
    "contar_palabras(frase)\n",
    "    "
   ]
  },
  {
   "cell_type": "markdown",
   "id": "ed2f6382-5182-4554-ab3b-d987bf8e59d6",
   "metadata": {},
   "source": [
    "#### Pregunta 2 (0.5 pts)"
   ]
  },
  {
   "cell_type": "markdown",
   "id": "55f77a43-f337-4633-a263-7039ccb6dd7c",
   "metadata": {},
   "source": [
    "Pide una cadena y un carácter por teclado (valida que sea un carácter) y muestra cuantas veces aparece el carácter en la cadena.\n",
    "\n",
    "Nota: Solo esta permitido usar los métodos básicos como len,upper y lower."
   ]
  },
  {
   "cell_type": "code",
   "execution_count": 8,
   "id": "3e118797-b04b-4cb6-b83e-96007ffa24a3",
   "metadata": {},
   "outputs": [
    {
     "name": "stdout",
     "output_type": "stream",
     "text": [
      "Por favor, introduzca una frase: mira lo que se avecina viene Diego por la esquina\n",
      "Por favor, introduzca un carácter: e\n",
      "El carácter 'e' aparece 7 veces en la frase.\n"
     ]
    }
   ],
   "source": [
    "def comprobar(f, c):\n",
    "    if len(c)>1:\n",
    "        print(\"Debe ingresar un único carácter.\")\n",
    "        return\n",
    "\n",
    "    con = 0\n",
    "    for i in range(len(f)):\n",
    "        if f[i] == c:\n",
    "            con += 1\n",
    "\n",
    "    print(f\"El carácter '{c}' aparece {con} veces en la frase.\")\n",
    "            \n",
    "f = input(\"Por favor, introduzca una frase: \")\n",
    "c = input(\"Por favor, introduzca un carácter: \")\n",
    "\n",
    "comprobar(f,c)"
   ]
  },
  {
   "cell_type": "markdown",
   "id": "8bc94013-394d-4aac-a8dd-b9f3636ed39a",
   "metadata": {},
   "source": [
    "#### Pregunta 3 (0.5 pts)"
   ]
  },
  {
   "cell_type": "markdown",
   "id": "1c9c0a37-57fd-4087-b9ad-418e7fb13cab",
   "metadata": {},
   "source": [
    "Si tenemos una cadena con un nombre y apellidos, realizar un programa que muestre las iniciales en mayúscula.\n",
    "\n",
    "Nota: Solo esta permitido usar los métodos básicos como len,upper y lower.\n",
    "\n",
    "Ejemplo:\n",
    "\n",
    "jose perez -> Jose Perez"
   ]
  },
  {
   "cell_type": "code",
   "execution_count": 16,
   "id": "2b08e0e0-8806-4c52-8fe6-3b076f096204",
   "metadata": {},
   "outputs": [
    {
     "name": "stdout",
     "output_type": "stream",
     "text": [
      "Jacinto Benjumea\n"
     ]
    }
   ],
   "source": [
    "def iniciales_mayuscula(n,a):\n",
    "    nombre = n[0].upper()+n[1:]\n",
    "    apellido = a[0].upper()+a[1:]\n",
    "    return nombre, apellido\n",
    "\n",
    "n,a = iniciales_mayuscula(\"jacinto\", \"benjumea\")\n",
    "print(n, a)\n"
   ]
  },
  {
   "cell_type": "markdown",
   "id": "9878febd-82e3-4bb3-8d89-bc70d614ecf9",
   "metadata": {},
   "source": [
    "#### Pregunta 4 (0.5 pts)"
   ]
  },
  {
   "cell_type": "markdown",
   "id": "ba9d61a3-9eb9-4c88-9cf7-cf0063765713",
   "metadata": {},
   "source": [
    "Realizar un programa que compruebe si una palabra contiene una subcadena. Los dos datos se introducen por teclado.\n",
    "\n",
    "Nota: Solo esta permitido usar los métodos básicos como len,upper y lower."
   ]
  },
  {
   "cell_type": "code",
   "execution_count": 5,
   "id": "61b999f1-d8a8-4160-a67c-a797e812d71e",
   "metadata": {},
   "outputs": [
    {
     "name": "stdout",
     "output_type": "stream",
     "text": [
      "True\n"
     ]
    }
   ],
   "source": [
    "print(\"ytho\" in \"Python\") # Prohibido utilizar"
   ]
  },
  {
   "cell_type": "code",
   "execution_count": 28,
   "id": "1b895a7c",
   "metadata": {},
   "outputs": [
    {
     "name": "stdout",
     "output_type": "stream",
     "text": [
      "Introduce una palabra: tegucigalpa\n",
      "Introduce una subcadena: ig\n",
      "La palabra \"tegucigalpa\" contiene la subcadena \"ig\".\n"
     ]
    }
   ],
   "source": [
    "def contiene_subcadena(palabra, subcadena):\n",
    "    palabra = palabra.lower()  \n",
    "    subcadena = subcadena.lower()\n",
    "\n",
    "    longitud_palabra = len(palabra)\n",
    "    longitud_subcadena = len(subcadena)\n",
    "\n",
    "    for i in range(longitud_palabra - longitud_subcadena + 1):\n",
    "        if palabra[i:i + longitud_subcadena] == subcadena:\n",
    "            return True\n",
    "\n",
    "    return False\n",
    "\n",
    "palabra_usuario = input(\"Introduce una palabra: \")\n",
    "subcadena_usuario = input(\"Introduce una subcadena: \")\n",
    "\n",
    "resultado = contiene_subcadena(palabra_usuario, subcadena_usuario)\n",
    "\n",
    "if resultado:\n",
    "    print(f'La palabra \"{palabra_usuario}\" contiene la subcadena \"{subcadena_usuario}\".')\n",
    "else:\n",
    "    print(f'La palabra \"{palabra_usuario}\" NO contiene la subcadena \"{subcadena_usuario}\".')\n"
   ]
  },
  {
   "cell_type": "markdown",
   "id": "2426dd43-b0cb-4fa7-8fe2-e488453d4414",
   "metadata": {},
   "source": [
    "#### Pregunta 5 (1pt)"
   ]
  },
  {
   "cell_type": "markdown",
   "id": "006efd26-08e1-4e20-8b4c-cbb9d8c3791b",
   "metadata": {},
   "source": [
    "Escribir un programa en python que permita introducir una cadena de caracteres e indicar si es un palíndromo. Una palabra palíndroma es aquella que se lee igual adelante que atrás."
   ]
  },
  {
   "cell_type": "code",
   "execution_count": 13,
   "id": "d6bbea19-3ef7-42aa-b03f-80523b2e002f",
   "metadata": {},
   "outputs": [
    {
     "name": "stdout",
     "output_type": "stream",
     "text": [
      "Introduzca una palabra para ver si es un palíndromo: reconocer\n",
      "Es un palíndromo\n"
     ]
    }
   ],
   "source": [
    "def palindromo(p):\n",
    "    c = p[::-1]\n",
    "    if p == c:\n",
    "        r = \"Es un palíndromo\"\n",
    "    else:\n",
    "        r = \"No es un palindromo\"\n",
    "    return r\n",
    "\n",
    "p = input(\"Introduzca una palabra para ver si es un palíndromo: \")\n",
    "\n",
    "resultado = palindromo(p)\n",
    "print(resultado)   "
   ]
  },
  {
   "cell_type": "markdown",
   "id": "7f3cdf51-1779-44bb-ac4b-7aab95d3dd78",
   "metadata": {},
   "source": [
    "#### Pregunta 6 (1pt)"
   ]
  },
  {
   "cell_type": "markdown",
   "id": "ac833ccf-668a-4c2d-822f-3fc27d0703a0",
   "metadata": {},
   "source": [
    "Realizar un programa que solicite una frase por teclado y convierta la primera mitad de la cadena en MAYUSCULAS.\n",
    "\n",
    "Pythons --> PYThons ## En el acaso que la longitud sea inpar.."
   ]
  },
  {
   "cell_type": "code",
   "execution_count": 19,
   "id": "33ed2bd0-1f1f-4eae-a292-ae224891d3ec",
   "metadata": {},
   "outputs": [
    {
     "name": "stdout",
     "output_type": "stream",
     "text": [
      "Introduzca una palabra: Esternocleidomastoideo\n",
      "ESTERNOCLEIdomastoideo\n"
     ]
    }
   ],
   "source": [
    "def mayusculas(p):\n",
    "    c = int(len(p)/2)\n",
    "    r = p[:c].upper()+p[c:]\n",
    "    return r\n",
    "\n",
    "p = input(\"Introduzca una palabra: \")\n",
    "\n",
    "resultado = mayusculas(p)\n",
    "print(resultado) "
   ]
  },
  {
   "cell_type": "markdown",
   "id": "b61a74b7-d259-4384-9318-ef0b5eac415f",
   "metadata": {},
   "source": [
    "#### Pregunta 7 (1pt)"
   ]
  },
  {
   "cell_type": "markdown",
   "id": "07c0d27e-b056-4103-bf04-d743c71aff6e",
   "metadata": {},
   "source": [
    "Realizar una función  que devuelva la cantidad de números hay en una cadena.\n",
    "\n",
    "\"Nota 1: 8.5\" >> 3 números\n",
    "\n",
    "Nota: Solo esta permitido usar los métodos básicos como len,upper y lower."
   ]
  },
  {
   "cell_type": "code",
   "execution_count": 6,
   "id": "e5a89804",
   "metadata": {},
   "outputs": [
    {
     "name": "stdout",
     "output_type": "stream",
     "text": [
      "Por favor, introduzca una frase: Blancanieves y los 3 cerditos con los 7 enanitos\n",
      "Aparecen 2 números en la frase.\n"
     ]
    }
   ],
   "source": [
    "def cantidad_numeros(f):\n",
    "    n = 0\n",
    "    for i in f:\n",
    "        if '0' <= i <= '9':\n",
    "            n += 1\n",
    "\n",
    "    print(f\"Aparecen {n} números en la frase.\")\n",
    "            \n",
    "f = input(\"Por favor, introduzca una frase: \")\n",
    "\n",
    "cantidad_numeros(f)"
   ]
  },
  {
   "cell_type": "markdown",
   "id": "d71dacbd-e6c6-41a7-bd44-a90424282999",
   "metadata": {},
   "source": [
    "#### Pregunta 8 (1pt)"
   ]
  },
  {
   "cell_type": "markdown",
   "id": "a9171913-e6c4-4d17-93c9-6678c04b8a6c",
   "metadata": {},
   "source": [
    "Escribir una función reciba dos parametros (frase,longitud), donde frase es una frase cualquiera y longitud es un numero, la función debe devolver la primer palabra coincidente con la longitud enviada.\n",
    "\n",
    "funcion(\"hola, es tu casa\",2) >>> \"es\""
   ]
  },
  {
   "cell_type": "code",
   "execution_count": 11,
   "id": "22d29060-bc10-4de4-9255-fbef3f5b53a4",
   "metadata": {},
   "outputs": [
    {
     "name": "stdout",
     "output_type": "stream",
     "text": [
      "Por favor, escribe una frase: Sapere aude es el eslogan de la Ilustración introducido por Immanuel Kant en el siglo XVIII\n",
      "Por favor, introduce como número la posición de la frase que quieres que se devuelva: 7\n",
      "Ilustración\n"
     ]
    }
   ],
   "source": [
    "def devolver_palabras(f,l):\n",
    "    frase= f.split()\n",
    "    r = frase[int(l)]\n",
    "    return r\n",
    "\n",
    "frase = input(\"Por favor, escribe una frase: \")\n",
    "longitud = input(\"Por favor, introduce como número la posición de la frase que quieres que se devuelva: \")\n",
    "\n",
    "funcion = devolver_palabras(frase, longitud)\n",
    "print(funcion)"
   ]
  },
  {
   "cell_type": "markdown",
   "id": "ba16910e-644e-4b23-8d78-1092a0b2a486",
   "metadata": {},
   "source": [
    "#### Pregunta 9 (1pt)"
   ]
  },
  {
   "cell_type": "markdown",
   "id": "0116a822-349e-4a8b-9ac3-caee98df95eb",
   "metadata": {},
   "source": [
    "Escribir una función que reciba dos parametros (frase,caracter), donde frase es una frase cualquiera y caracter el caracter que debe eliminarse de la frase, la función debe delvolver esta nueva frase con los caracteres eliminados.\n",
    "\n",
    "\n",
    "funcion(\"Hola como estas\",\"a\") >> \"Hol como ests\""
   ]
  },
  {
   "cell_type": "code",
   "execution_count": 20,
   "id": "fa9aac2a-c59c-4a5c-9620-b4070a3cbb1c",
   "metadata": {},
   "outputs": [
    {
     "name": "stdout",
     "output_type": "stream",
     "text": [
      "Chqullo, tol da dcendo qullo\n"
     ]
    }
   ],
   "source": [
    "def eliminar_caracter(frase, caracter):\n",
    "    nueva_frase = ''\n",
    "    for c in frase:\n",
    "        if c != caracter:\n",
    "            nueva_frase += c\n",
    "    \n",
    "    return nueva_frase\n",
    "\n",
    "frase_original = \"Chiquillo, tol dia diciendo quillo\"\n",
    "caracter_a_eliminar = \"i\"\n",
    "\n",
    "resultado = eliminar_caracter(frase_original, caracter_a_eliminar)\n",
    "\n",
    "print(resultado)"
   ]
  },
  {
   "cell_type": "markdown",
   "id": "4e8efc4e-827e-41eb-9197-7ce64697e5b4",
   "metadata": {},
   "source": [
    "#### Pregunta 10 (1pt)"
   ]
  },
  {
   "cell_type": "markdown",
   "id": "b146ba9f-ce8a-498c-8a79-05ef6f3a03db",
   "metadata": {},
   "source": [
    "Realizar una función reciba una cadena e imprima la cadena original más su inverso.\n",
    "\n",
    "\n",
    "\"Reflejo\" >> ReflejoojelfeR"
   ]
  },
  {
   "cell_type": "code",
   "execution_count": 19,
   "id": "2c9ba09b-299b-4810-8f6d-fa2669cf94c4",
   "metadata": {},
   "outputs": [
    {
     "name": "stdout",
     "output_type": "stream",
     "text": [
      "Escribe una frase: Payaso\n",
      "PayasoosayaP\n"
     ]
    }
   ],
   "source": [
    "def cad_original_inverso(f):\n",
    "    r = f[:]+f[::-1]\n",
    "    return r\n",
    "\n",
    "f = input(\"Escribe una frase: \")\n",
    "\n",
    "resultado = cad_original_inverso(f)\n",
    "print(resultado)  "
   ]
  },
  {
   "cell_type": "markdown",
   "id": "5bf242a1-480c-4bbf-95fa-d45c787a8039",
   "metadata": {},
   "source": [
    "#### Pregunta 11"
   ]
  },
  {
   "cell_type": "markdown",
   "id": "1b0aba9a-11de-4f79-9d1d-b5a24fddacc3",
   "metadata": {},
   "source": [
    "Escribir una función que dada una cadena y un caracter inserte el caracter cada 3 dígitos en la cadena. Ej. 2552552550 y \".\" debería devolver 255.255.255.0"
   ]
  },
  {
   "cell_type": "code",
   "execution_count": 6,
   "id": "7d4d0815-3459-4eca-8152-cfb66275da92",
   "metadata": {},
   "outputs": [
    {
     "name": "stdout",
     "output_type": "stream",
     "text": [
      "0.552.552.552\n",
      "255.255.255.0\n"
     ]
    }
   ],
   "source": [
    "def insertar_caracter_cada_tres_digitos(cadena, caracter):\n",
    "    nueva_cadena = \"\"\n",
    "    contador = 0\n",
    "\n",
    "    for digito in cadena:\n",
    "        nueva_cadena = digito + nueva_cadena\n",
    "        contador += 1\n",
    "\n",
    "        if contador == 3:\n",
    "            nueva_cadena = caracter + nueva_cadena\n",
    "            contador = 0\n",
    "\n",
    "    return nueva_cadena\n",
    "\n",
    "cadena_original = \"2552552550\"\n",
    "caracter_a_insertar = \".\"\n",
    "\n",
    "resultado = insertar_caracter_cada_tres_digitos(cadena_original, caracter_a_insertar)\n",
    "print(resultado)\n",
    "\n",
    "print(resultado[::-1])\n",
    "\n"
   ]
  },
  {
   "cell_type": "markdown",
   "id": "6ea450ee-f884-450b-bc4c-504a72175ab3",
   "metadata": {},
   "source": [
    "#### Pregunta 12"
   ]
  },
  {
   "cell_type": "markdown",
   "id": "ab00f571-5627-4800-90cd-7c8ef28afe8d",
   "metadata": {},
   "source": [
    "Escribir un programa que muestre un menú con 3 opciones a realizar:\n",
    "\n",
    "- 1. Registrarse: Permite al usario registrarse proporcionado usuario y contraseña.\n",
    "- 2. Identificarse: Permite identificarse prorcionando usuario y contraseña.\n",
    "- 3. Salir\n",
    "\n",
    "Los datos deben ser registrados en un txt linea por linea bajo el siguiente formato usuario;contraseña .\n",
    "\n",
    "datos.txt\n",
    "\n",
    "jose;password1\n",
    "\n",
    "leonel;password112\n",
    "\n",
    "\n",
    "Al identificarse se debe devolver un mensaje según el resultado.\n",
    "\n",
    "Crear las funciones necesarias para que no se repita código, controlar errores y exepciones. Todo el trabajo con las cadenas debe ser realizado desde cero, solo puede hacer uso de métodos básicos como len, upper, lower..\n"
   ]
  },
  {
   "cell_type": "code",
   "execution_count": 1,
   "id": "40b7e5d3-b0ab-4f84-b85d-d67f54bdfc8f",
   "metadata": {},
   "outputs": [
    {
     "name": "stdout",
     "output_type": "stream",
     "text": [
      "1. Registrarse\n",
      "2. Identificarse\n",
      "3. Salir\n",
      "Seleccione una opción (1-3): 1\n",
      "Ingrese el nombre de usuario: Guillermo\n",
      "Ingrese la contraseña: 1q2w3e\n",
      "¡Registro exitoso!\n",
      "1. Registrarse\n",
      "2. Identificarse\n",
      "3. Salir\n",
      "Seleccione una opción (1-3): 3\n",
      "Saliendo del programa. ¡Hasta luego!\n"
     ]
    }
   ],
   "source": [
    "def mostrar_menu():\n",
    "    print(\"1. Registrarse\")\n",
    "    print(\"2. Identificarse\")\n",
    "    print(\"3. Salir\")\n",
    "\n",
    "def registrar_usuario(usuario, contraseña):\n",
    "    with open(\"datos.txt\", \"a\") as archivo:\n",
    "        archivo.write(f\"{usuario};{contraseña}\\n\")\n",
    "    print(\"¡Registro exitoso!\")\n",
    "\n",
    "def identificar_usuario(usuario, contraseña):\n",
    "    with open(\"datos.txt\", \"r\") as archivo:\n",
    "        lineas = archivo.readlines()\n",
    "    \n",
    "    for linea in lineas:\n",
    "        user, pwd = linea.strip().split(\";\")\n",
    "        if usuario == user and contraseña == pwd:\n",
    "            print(\"¡Identificación exitosa!\")\n",
    "            return\n",
    "    \n",
    "    print(\"Usuario o contraseña incorrectos.\")\n",
    "\n",
    "while True:\n",
    "    mostrar_menu()\n",
    "    opcion = input(\"Seleccione una opción (1-3): \")\n",
    "\n",
    "    if opcion == \"1\":\n",
    "        usuario = input(\"Ingrese el nombre de usuario: \")\n",
    "        contraseña = input(\"Ingrese la contraseña: \")\n",
    "        registrar_usuario(usuario, contraseña)\n",
    "\n",
    "    elif opcion == \"2\":\n",
    "        usuario = input(\"Ingrese el nombre de usuario: \")\n",
    "        contraseña = input(\"Ingrese la contraseña: \")\n",
    "        identificar_usuario(usuario, contraseña)\n",
    "\n",
    "    elif opcion == \"3\":\n",
    "        print(\"Saliendo del programa. ¡Hasta luego!\")\n",
    "        break\n",
    "\n",
    "    else:\n",
    "        print(\"Opción no válida. Por favor, ingrese 1, 2 o 3.\")\n"
   ]
  },
  {
   "cell_type": "code",
   "execution_count": null,
   "id": "63ee4993",
   "metadata": {},
   "outputs": [],
   "source": []
  }
 ],
 "metadata": {
  "kernelspec": {
   "display_name": "Python 3 (ipykernel)",
   "language": "python",
   "name": "python3"
  },
  "language_info": {
   "codemirror_mode": {
    "name": "ipython",
    "version": 3
   },
   "file_extension": ".py",
   "mimetype": "text/x-python",
   "name": "python",
   "nbconvert_exporter": "python",
   "pygments_lexer": "ipython3",
   "version": "3.11.4"
  }
 },
 "nbformat": 4,
 "nbformat_minor": 5
}
