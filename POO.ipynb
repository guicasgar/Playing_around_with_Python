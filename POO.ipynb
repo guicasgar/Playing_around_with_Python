{
 "cells": [
  {
   "cell_type": "markdown",
   "id": "7a47f5b3-3c0b-48ce-85e6-64ba47e1dc96",
   "metadata": {},
   "source": [
    "## Examen Tema 5"
   ]
  },
  {
   "cell_type": "markdown",
   "id": "9c41380f-a5c8-4100-b9bc-4b2235496a47",
   "metadata": {},
   "source": [
    "#### Pregunta 1"
   ]
  },
  {
   "cell_type": "markdown",
   "id": "b8231e11-e965-4f7d-815b-df98b3e0e440",
   "metadata": {},
   "source": [
    "Crear una clase Rectángulo, con atributos base y altura. Crear también el constructor de la clase y los métodos necesarios para calcular el área y el perímetro. Crear otra clase PruebaRectángulo que pruebe varios rectángulos y muestre por pantalla sus áreas y perímetros."
   ]
  },
  {
   "cell_type": "code",
   "execution_count": 26,
   "id": "9ec8c8fa",
   "metadata": {},
   "outputs": [
    {
     "name": "stdout",
     "output_type": "stream",
     "text": [
      " El área del rectángulo es: 36 y El perímetro del rectángulo es: 30\n",
      " El área del rectángulo es: 54 y El perímetro del rectángulo es: 30\n"
     ]
    }
   ],
   "source": [
    "class Rectangulo:\n",
    "    def __init__(self,base,altura):\n",
    "        self.base = base\n",
    "        self.altura = altura\n",
    "        \n",
    "    def area(self):\n",
    "        a = self.base * self.altura\n",
    "        return f\"El área del rectángulo es: {a}\"\n",
    "    \n",
    "    def perimetro(self):\n",
    "        p = (self.base+self.altura)*2\n",
    "        return f\"El perímetro del rectángulo es: {p}\"\n",
    "    \n",
    "    def __str__(self):\n",
    "        a = self.area()\n",
    "        p = self.perimetro()\n",
    "        return f\" {a} y {p}\"\n",
    "    \n",
    "\n",
    "rectangulo1 = Rectangulo(10, 8)\n",
    "rectangulo2 = Rectangulo(12, 3)\n",
    "rectangulo3 = Rectangulo(6, 9)\n",
    "#print(rectangulo1)\n",
    "#print(rectangulo1.area())\n",
    "#print(rectangulo1.perimetro())\n",
    "\n",
    "class PruebaRectangulos:\n",
    "    def __init__(self):\n",
    "        self.rectangulos = []\n",
    "        \n",
    "    def agregar(self,p):\n",
    "        self.rectangulos.append(p)\n",
    "        \n",
    "    def mostrar(self):\n",
    "        for p in self.rectangulos:\n",
    "            print(p)\n",
    "            \n",
    "PruebaRectangulos = PruebaRectangulos()  \n",
    "PruebaRectangulos.agregar(rectangulo2)\n",
    "PruebaRectangulos.agregar(rectangulo3)\n",
    "PruebaRectangulos.mostrar()"
   ]
  },
  {
   "cell_type": "markdown",
   "id": "5bbd123b-aafc-4466-b265-98447642e7bb",
   "metadata": {},
   "source": [
    "### Pregunta 2"
   ]
  },
  {
   "cell_type": "markdown",
   "id": "ab4ca0f1-b429-4141-83a6-6382c2bc0733",
   "metadata": {},
   "source": [
    "Crear una clase Coche, a través de la cual se pueda conocer el color del coche, la marca, el modelo, el número de puertas y la placa. Crear el constructor del coche, así como los métodos que considere necesarios.\n",
    "Crear una clase PruebaCoche que instancie varios coches, cambiándole el color a algunos de ellos y mostrándolo por pantalla.\n"
   ]
  },
  {
   "cell_type": "code",
   "execution_count": 32,
   "id": "41f31881",
   "metadata": {},
   "outputs": [
    {
     "name": "stdout",
     "output_type": "stream",
     "text": [
      "Información original:\n",
      "Coche 1: Color: Rojo, Marca: Toyota, Modelo: Corolla, Número de Puertas: 4, Placa: ABC123\n",
      "Coche 2: Color: Amarillo, Marca: Audi, Modelo: A3, Número de Puertas: 3, Placa: DEF456\n",
      "Coche 3: Color: Negro, Marca: Skoda, Modelo: Fabia, Número de Puertas: 3, Placa: GHI789\n",
      "\n",
      "Información después de cambiar el color:\n",
      "Coche 1: Color: Gris, Marca: Toyota, Modelo: Corolla, Número de Puertas: 4, Placa: ABC123\n",
      "Coche 2: Color: Amarillo, Marca: Audi, Modelo: A3, Número de Puertas: 3, Placa: DEF456\n",
      "Coche 3: Color: Negro, Marca: Skoda, Modelo: Fabia, Número de Puertas: 3, Placa: GHI789\n"
     ]
    }
   ],
   "source": [
    "class Coche:\n",
    "    def __init__(self, color, marca, modelo, num_puertas, placa):\n",
    "        self.color = color\n",
    "        self.marca = marca\n",
    "        self.modelo = modelo\n",
    "        self.num_puertas = num_puertas\n",
    "        self.placa = placa\n",
    "        \n",
    "    def __str__(self):\n",
    "        return f\"Color: {self.color}, Marca: {self.marca}, Modelo: {self.modelo}, Número de Puertas: {self.num_puertas}, Placa: {self.placa}\"\n",
    "\n",
    "    def establecer_color(self, nuevo_color):\n",
    "        self.color = nuevo_color\n",
    "    \n",
    "class PruebaCoche:\n",
    "    def __init__(self):\n",
    "        self.coche1 = Coche(color=\"Rojo\", marca=\"Toyota\", modelo=\"Corolla\", num_puertas=4, placa=\"ABC123\")\n",
    "        self.coche2 = Coche(color=\"Amarillo\", marca=\"Audi\", modelo=\"A3\", num_puertas=3, placa=\"DEF456\")\n",
    "        self.coche3 = Coche(color=\"Negro\", marca=\"Skoda\", modelo=\"Fabia\", num_puertas=3, placa=\"GHI789\")\n",
    "\n",
    "    def ejecutar_prueba(self):\n",
    "        print(\"Información original:\")\n",
    "        print(\"Coche 1:\", self.coche1.__str__())\n",
    "        print(\"Coche 2:\", self.coche2.__str__())\n",
    "        print(\"Coche 3:\", self.coche3.__str__())\n",
    "\n",
    "        self.coche1.establecer_color(\"Gris\")\n",
    "        self.coche3.establecer_color(\"Negro\")\n",
    "\n",
    "        \n",
    "        print(\"\\nInformación después de cambiar el color:\")\n",
    "        print(\"Coche 1:\", self.coche1.__str__())\n",
    "        print(\"Coche 2:\", self.coche2.__str__())\n",
    "        print(\"Coche 3:\", self.coche3.__str__())\n",
    "\n",
    "prueba = PruebaCoche()\n",
    "prueba.ejecutar_prueba()\n",
    "    "
   ]
  },
  {
   "cell_type": "markdown",
   "id": "82692660-b7b6-4033-8407-682788e45e99",
   "metadata": {},
   "source": [
    "### Pregunta 3"
   ]
  },
  {
   "cell_type": "markdown",
   "id": "c6fad0a0-1d24-47d0-af54-cd7636a97811",
   "metadata": {},
   "source": [
    "Se quiere crear una clase Cuenta la cual se caracteriza por tener asociado un número de cuenta y un saldo disponible. Además, se puede consultar el saldo disponible en cualquier momento, recibir depósitos y pagar gastos.\n",
    "Crear además una clase Persona, que se caracteriza por un carnet y una o más cuentas bancarias. La Persona puede tener asociada hasta 3 cuentas bancarias, y debe tener un método que permite añadir cuentas (hasta 3 que es el máximo).\n",
    "También debe contener un método que devuelva si la persona es morosa, como cuando alguna cuenta tiene saldo negativo.\n",
    "Crear una clase PruebaCuentas que instancie un objeto Persona con un carnet cualquiera, así como dos objetos cuenta, una sin saldo inicial y otra con 700 €. La persona recibe su sueldo por depósito directo, por lo que ingresa 6100 € en la primera cuenta, pero tiene que pagar el alquiler de 750 € con la segunda. Imprimir por pantalla si la persona es morosa. Posteriormente hacer una transferencia de una cuenta a otra y comprobar mostrándolo por pantalla que cambia el estado de la persona"
   ]
  },
  {
   "cell_type": "code",
   "execution_count": 71,
   "id": "3f5c0cd7",
   "metadata": {},
   "outputs": [
    {
     "name": "stdout",
     "output_type": "stream",
     "text": [
      "Se ha agregado la cuenta 12345 a la persona A12345.\n",
      "Se ha agregado la cuenta 67890 a la persona A12345.\n",
      "No hay suficiente saldo en la cuenta 67890 para realizar el pago.\n",
      "¿La persona A12345 es morosa? False\n",
      "Después de la transferencia, ¿la persona A12345 es morosa? False\n"
     ]
    }
   ],
   "source": [
    "class Cuenta:\n",
    "    def __init__(self, numero_cuenta, saldo_inicial=0):\n",
    "        self.numero_cuenta = numero_cuenta\n",
    "        self.saldo_disponible = saldo_inicial\n",
    "        \n",
    "    def consultar_saldo(self):\n",
    "        return self.saldo_disponible\n",
    "\n",
    "    def recibir_deposito(self, monto):\n",
    "        self.saldo_disponible += monto\n",
    "        \n",
    "    def pagar_gastos(self, monto):\n",
    "        if self.saldo_disponible >= monto:\n",
    "            self.saldo_disponible -= monto\n",
    "        else:\n",
    "            print(f\"No hay suficiente saldo en la cuenta {self.numero_cuenta} para realizar el pago.\")\n",
    "        \n",
    "    def realizar_transferencia(self, cuenta_destino, monto):\n",
    "        if self.saldo_disponible >= monto:\n",
    "            self.saldo_disponible -= monto\n",
    "            cuenta_destino.recibir_deposito(monto)\n",
    "        else:\n",
    "            print(f\"No hay suficiente saldo en la cuenta {self.numero_cuenta} para realizar la transferencia.\")\n",
    "\n",
    "        \n",
    "class Persona:\n",
    "    def __init__(self, carnet):\n",
    "        self.carnet = carnet\n",
    "        self.cuentas = []\n",
    "        \n",
    "    def agregar_cuenta(self, cuenta):\n",
    "        if len(self.cuentas) < 3:\n",
    "            self.cuentas.append(cuenta)\n",
    "            print(f\"Se ha agregado la cuenta {cuenta.numero_cuenta} a la persona {self.carnet}.\")\n",
    "        else:\n",
    "            print(f\"No se pueden agregar más cuentas a la persona {self.carnet}. Ha alcanzado el límite de 3 cuentas.\")\n",
    "\n",
    "    def es_morosa(self):\n",
    "        for cuenta in self.cuentas:\n",
    "            if cuenta.consultar_saldo() < 0:\n",
    "                return True\n",
    "        return False\n",
    "        \n",
    "class PruebaCuentas:\n",
    "    def ejecutar_prueba(self):\n",
    "        persona1 = Persona(carnet=\"223344\")\n",
    "        persona = Persona(carnet=\"A12345\")\n",
    "        cuenta1 = Cuenta(numero_cuenta=\"12345\")\n",
    "        cuenta2 = Cuenta(numero_cuenta=\"67890\", saldo_inicial=700)\n",
    "        persona.agregar_cuenta(cuenta1)\n",
    "        persona.agregar_cuenta(cuenta2)\n",
    "        cuenta1.recibir_deposito(1000)\n",
    "        cuenta2.pagar_gastos(750)\n",
    "        \n",
    "        print(f\"¿La persona {persona.carnet} es morosa? {persona.es_morosa()}\")\n",
    "        \n",
    "        cuenta1.realizar_transferencia(cuenta2, 1000)\n",
    "        print(f\"Después de la transferencia, ¿la persona {persona.carnet} es morosa? {persona.es_morosa()}\")\n",
    "\n",
    "\n",
    "prueba = PruebaCuentas()\n",
    "prueba.ejecutar_prueba()  "
   ]
  },
  {
   "cell_type": "markdown",
   "id": "603a047e-e5e4-41ba-917d-dc84ce0fb94e",
   "metadata": {},
   "source": [
    "### Pregunta 4"
   ]
  },
  {
   "cell_type": "markdown",
   "id": "400ae1c0-f3cd-43ff-95c3-084eeae4d02a",
   "metadata": {},
   "source": [
    "Escribir una clase en python que calcule pow(x, n)\n",
    "\n",
    "x = es la base\n",
    "\n",
    "n = es el exponente"
   ]
  },
  {
   "cell_type": "code",
   "execution_count": 84,
   "id": "3a862540",
   "metadata": {},
   "outputs": [
    {
     "name": "stdout",
     "output_type": "stream",
     "text": [
      "El resultado de la potencia es 512\n"
     ]
    }
   ],
   "source": [
    "class calcule_potencia:\n",
    "    def __init__(self, base, exponente):\n",
    "        self.base = base\n",
    "        self.exponente = exponente\n",
    "    \n",
    "    def calcular_potencia(self):\n",
    "        a = self.base**self.exponente\n",
    "        return f\"El resultado de la potencia es {a}\"\n",
    "    \n",
    "potencia = calcule_potencia(8,3)\n",
    "print(potencia.calcular_potencia())\n",
    "    "
   ]
  },
  {
   "cell_type": "markdown",
   "id": "159bc2dc-af50-41be-b847-519719bbf77c",
   "metadata": {},
   "source": [
    "### Pregunta 5"
   ]
  },
  {
   "cell_type": "markdown",
   "id": "ceaa6930-5b49-4f01-9ff1-e763213b32f5",
   "metadata": {},
   "source": [
    "Escribir una clase en python llamada circulo que contenga un radio, con un método que devuelva el área y otro que devuelva el perímetro del circulo."
   ]
  },
  {
   "cell_type": "code",
   "execution_count": 86,
   "id": "dde999f2",
   "metadata": {},
   "outputs": [
    {
     "name": "stdout",
     "output_type": "stream",
     "text": [
      "El área del círculo es: 39.47841760435743\n",
      "La periferia del círculo es: 12.566370614359172\n"
     ]
    }
   ],
   "source": [
    "from math import pi\n",
    "\n",
    "class circulo:\n",
    "    def __init__(self, radio):\n",
    "        self.radio = radio\n",
    "        \n",
    "    def area(self):\n",
    "        a = (pi*self.radio)**2\n",
    "        return f\"El área del círculo es: {a}\"\n",
    "    def periferia(self):\n",
    "        p = 2*pi*self.radio\n",
    "        return f\"La periferia del círculo es: {p}\"\n",
    "    \n",
    "area = circulo(2)\n",
    "print(area.area())\n",
    "print(area.periferia())"
   ]
  },
  {
   "cell_type": "markdown",
   "id": "77f47967-7e88-4f27-b7ca-808ded32c168",
   "metadata": {},
   "source": [
    "### Pregunta 6"
   ]
  },
  {
   "cell_type": "markdown",
   "id": "0df5f573-d360-44f7-9fcf-d76bf129777e",
   "metadata": {},
   "source": [
    "Modelar una clase Mate que describa el funcionamiento de la conocida bebida. La clase debe contener como miembros:\n",
    "\n",
    "a) Un atributo para la cantidad de cebadas restantes hasta que se lava el mate (representada por un\n",
    "número).\n",
    "\n",
    "b) Un atributo para el estado (lleno o vacío).\n",
    "\n",
    "c) El constructor debe recibir como parámetro n, la cantidad máxima de cebadas en base a la cantidad de hierba vertida en el recipiente.\n",
    "\n",
    "d) Un método cebar, que llena el mate con agua. Si se intenta cebar con el mate lleno, se debe lanzar una excepción que imprima el mensaje Cuidado! Te quemaste!\"\n",
    "\n",
    "e) Un método beber, que vacía el mate y le resta una cebada disponible. Si se intenta beber un mate vacío, se debe lanzar una excepción que imprima el mensaje .El mate está vacío!\"\n",
    "\n",
    "f) Es posible seguir cebando y bebiendo el mate aunque no haya cebadas disponibes. En ese caso la cantidad de cebadas restantes se mantendrá en 0, y cada vez que se intente beber se debe imprimir un mensaje de aviso: Advertencia: el mate está lavado.\", pero no se debe lanzar una excepción"
   ]
  },
  {
   "cell_type": "code",
   "execution_count": 9,
   "id": "8b0d8be7-3066-4bcc-8d82-355449d261fa",
   "metadata": {},
   "outputs": [
    {
     "name": "stdout",
     "output_type": "stream",
     "text": [
      "El mate está vacío!\n",
      "El mate está vacío!\n",
      "El mate está vacío!\n"
     ]
    }
   ],
   "source": [
    "class Mate:\n",
    "    def __init__(self, n):\n",
    "        self.cantidad_cebada_restante = n\n",
    "        self.lleno = False\n",
    "        self.cantidad_máxima = n\n",
    "        \n",
    "    def cebar(self):\n",
    "        if self.lleno == True:\n",
    "            print(\"Cuidado! Te quemaste!\")\n",
    "        \n",
    "        \n",
    "    def beber(self):\n",
    "        if self.cantidad_cebada_restante > 0:\n",
    "            if self.lleno:\n",
    "                print(\"Bebiendo mate...\")\n",
    "                self.lleno == False\n",
    "                self.cebadas_restantes -= 1\n",
    "            else:\n",
    "                print(\"El mate está vacío!\")\n",
    "        else:\n",
    "            print(\"Advertencia: el mate está lavado.\")\n",
    "\n",
    "mate = Mate(3)            \n",
    "\n",
    "mate.cebar()\n",
    "mate.beber()\n",
    "mate.cebar()\n",
    "mate.beber()\n",
    "mate.cebar()\n",
    "mate.beber()"
   ]
  },
  {
   "cell_type": "code",
   "execution_count": null,
   "id": "1d949057",
   "metadata": {},
   "outputs": [],
   "source": []
  }
 ],
 "metadata": {
  "kernelspec": {
   "display_name": "Python 3 (ipykernel)",
   "language": "python",
   "name": "python3"
  },
  "language_info": {
   "codemirror_mode": {
    "name": "ipython",
    "version": 3
   },
   "file_extension": ".py",
   "mimetype": "text/x-python",
   "name": "python",
   "nbconvert_exporter": "python",
   "pygments_lexer": "ipython3",
   "version": "3.11.4"
  }
 },
 "nbformat": 4,
 "nbformat_minor": 5
}
