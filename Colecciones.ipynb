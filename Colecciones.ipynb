{
 "cells": [
  {
   "cell_type": "markdown",
   "id": "55451687-3337-4174-8209-23b9985adaf8",
   "metadata": {},
   "source": [
    "## Examen práctico 8"
   ]
  },
  {
   "cell_type": "markdown",
   "id": "cf4e3dc3-00a0-4025-ad87-17567cfe26fe",
   "metadata": {},
   "source": [
    "#### Pregunta 1"
   ]
  },
  {
   "cell_type": "markdown",
   "id": "89b8be1f-67f5-4391-8116-a2147840fc90",
   "metadata": {},
   "source": [
    "Escribir un programa que almacene el abecedario en una lista, elimine de la lista las letras que ocupen posiciones múltiplos de 5, y muestre por pantalla la lista resultante, prohibido ocupar slicing."
   ]
  },
  {
   "cell_type": "code",
   "execution_count": 27,
   "id": "97fdd2d5-760c-4f6c-9b49-3c3290297269",
   "metadata": {},
   "outputs": [
    {
     "name": "stdout",
     "output_type": "stream",
     "text": [
      "['f', 'k', 'o', 't', 'y']\n",
      "['a', 'b', 'c', 'd', 'e', 'g', 'h', 'i', 'j', 'l', 'm', 'n', 'ñ', 'p', 'q', 'r', 's', 'u', 'v', 'w', 'x', 'z']\n"
     ]
    }
   ],
   "source": [
    "abecedario = ['a','b','c','d','e','f','g','h','i','j','k','l','m','n','ñ','o','p','q','r','s','t','u','v','w','x','y','z']\n",
    "#print(abecedario)\n",
    "\n",
    "lista = []\n",
    "for i in range(5, len(abecedario), 5):\n",
    "    r = abecedario[i]\n",
    "    lista.append(r)\n",
    "\n",
    "abecedario_nuevo = []\n",
    "for letra in abecedario:\n",
    "    if letra not in lista:\n",
    "        abecedario_nuevo.append(letra)\n",
    "print(lista)\n",
    "print(abecedario_nuevo)\n",
    "    "
   ]
  },
  {
   "cell_type": "markdown",
   "id": "f38a31fe-5b9f-4a43-b19d-47c91e2c0958",
   "metadata": {},
   "source": [
    "#### Pregunta 2"
   ]
  },
  {
   "cell_type": "markdown",
   "id": "6850829e-1f0b-4518-9056-3854ca962883",
   "metadata": {},
   "source": [
    "Realizar un programa en Python que permita realizar la suma de dos vectores, para ello debes solicitar la dimension de los vectores (la dimensión es la cantidad de elementos) y solicitar los datos de los vectores, luego realizar la suma correspondiente. Al final mostrar el siguiente mensaje:\n",
    "\n",
    "\"La suma de {a} + {b} es {r}\" // Donde a es el primero vector, b el segundo y r el vector resultante.\n",
    "\n",
    "Utilizar tuplas."
   ]
  },
  {
   "cell_type": "code",
   "execution_count": 31,
   "id": "442e8804-70d1-491a-aeee-78bd388c82a3",
   "metadata": {},
   "outputs": [
    {
     "name": "stdout",
     "output_type": "stream",
     "text": [
      "Ingrese la dimensión de los vectores: 2\n",
      "Ingrese el elemento 1 del primer vector: 5\n",
      "Ingrese el elemento 2 del primer vector: 6\n",
      "Ingrese el elemento 1 del segundo vector: 8\n",
      "Ingrese el elemento 2 del segundo vector: 9\n",
      "La suma de (5.0, 6.0) + (8.0, 9.0) es (13.0, 15.0)\n"
     ]
    }
   ],
   "source": [
    "dimension = int(input(\"Ingrese la dimensión de los vectores: \"))\n",
    "\n",
    "tupla1 = tuple(\n",
    "    float(input(f\"Ingrese el elemento {i + 1} del primer vector: \")) \n",
    "    for i in range(dimension)\n",
    ")\n",
    "\n",
    "tupla2 = tuple(\n",
    "    float(input(f\"Ingrese el elemento {i + 1} del segundo vector: \")) \n",
    "    for i in range(dimension)\n",
    ")\n",
    "\n",
    "resultado = tuple()\n",
    "\n",
    "for i in range(dimension):\n",
    "    suma_elemento = tupla1[i] + tupla2[i]\n",
    "    resultado += (suma_elemento,)\n",
    "\n",
    "# Mostrar el resultado\n",
    "print(f\"La suma de {tupla1} + {tupla2} es {resultado}\")\n"
   ]
  },
  {
   "cell_type": "markdown",
   "id": "092db1c5-3fd7-41f7-bad7-4b9e36da95c2",
   "metadata": {},
   "source": [
    "#### Pregunta 3"
   ]
  },
  {
   "cell_type": "markdown",
   "id": "7affb31f-6741-4a9f-b167-ce6fcb979fcd",
   "metadata": {},
   "source": [
    "Realizar una función llamada \"ordenarburbuja\" que reciba una lista desordenada de números (flotantes, enteros) y devuelva la lista ordenada de manera descendente. Utilizar ordenamiento burbuja. Solo se permite una función."
   ]
  },
  {
   "cell_type": "code",
   "execution_count": 34,
   "id": "d5932568-64c2-4ea0-b4cd-6808d2c1470f",
   "metadata": {},
   "outputs": [
    {
     "name": "stdout",
     "output_type": "stream",
     "text": [
      "Lista ordenada de manera descendente: [90, 64, 34, 25, 22, 12, 11]\n"
     ]
    }
   ],
   "source": [
    "def ordenarburbuja(lista):\n",
    "    n = len(lista)\n",
    "\n",
    "    for i in range(n - 1):\n",
    "        for j in range(0, n - i - 1):\n",
    "            if lista[j] < lista[j + 1]:\n",
    "                lista[j], lista[j + 1] = lista[j + 1], lista[j]\n",
    "\n",
    "    return lista\n",
    "\n",
    "numeros = [64, 34, 25, 12, 22, 11, 90]\n",
    "resultado = ordenarburbuja(numeros)\n",
    "print(f\"Lista ordenada de manera descendente: {resultado}\")"
   ]
  },
  {
   "cell_type": "markdown",
   "id": "e3cb559b-1692-4dda-9223-dded14508bc1",
   "metadata": {},
   "source": [
    "#### Pregunta 4"
   ]
  },
  {
   "cell_type": "markdown",
   "id": "ec721ab5-da68-4c8b-838f-d92216a796c6",
   "metadata": {},
   "source": [
    "Realizar una función llamada \"ordenarquicksort\" que reciba una lista desordenada de números (flotantes, enteros) y devuelva la lista ordenada de manera ascendente. Utilizar ordenamiento quicksort. Solo se permite una función."
   ]
  },
  {
   "cell_type": "code",
   "execution_count": 35,
   "id": "c2e40ed0-5799-4a65-9d7b-52d82aab74b4",
   "metadata": {},
   "outputs": [
    {
     "name": "stdout",
     "output_type": "stream",
     "text": [
      "Lista ordenada de manera descendente: [2, 15, 32, 48, 63, 67, 98, 127, 684]\n"
     ]
    }
   ],
   "source": [
    "def ordenarburbuja(lista):\n",
    "    n = len(lista)\n",
    "\n",
    "    for i in range(n - 1):\n",
    "        for j in range(0, n - i - 1):\n",
    "            if lista[j] > lista[j + 1]:\n",
    "                lista[j], lista[j + 1] = lista[j + 1], lista[j]\n",
    "\n",
    "    return lista\n",
    "\n",
    "numeros = [127, 2, 15, 684, 98, 32, 48, 63, 67]\n",
    "resultado = ordenarburbuja(numeros)\n",
    "print(f\"Lista ordenada de manera descendente: {resultado}\")"
   ]
  },
  {
   "cell_type": "markdown",
   "id": "6b0d59c0-e10c-457b-9390-1db2f31ad4bf",
   "metadata": {},
   "source": [
    "#### Pregunta 5"
   ]
  },
  {
   "cell_type": "markdown",
   "id": "d2d3c498-0707-410c-b3fe-42e3ef245e0b",
   "metadata": {},
   "source": [
    "Dadas las siguientes listas:\n",
    "\n",
    "A = [\"Jose\",\"Mariano\",\"Rita\",\"Sara\",\"Juan\"]\n",
    "\n",
    "B = [\"Jose\",\"Maria\",\"Robert\",\"Selena\",\"Juan\"]\n",
    "\n",
    "C = [\"Mario\",\"Freddy\",\"robert\",\"Dave\",\"Cesar\",\"Juan\"]\n",
    "\n",
    "Realizar un programa que permita:\n",
    "- Saber cuantas personas hay en total sin contar los duplicados. A como en el B.Debe imprimir un mensaje indicando la cantidad y los nombre.\n",
    "\n",
    "- Saber que personas estan tanto en el grupo A como en el B.Debe imprimir un mensaje indicando la cantidad y los nombres.\n",
    "\n",
    "- Saber que personas estan tanto en el grupo B como en C. Debe imprimir un mensaje indicando la cantidad y los nombres.\n",
    "\n",
    "- Saber que personas estan en los tres grupos. Debe imprimir un mensaje indicando la cantidad y los nombres.\n",
    "\n",
    "\n",
    "Ocupar conjuntos.\n",
    "\n"
   ]
  },
  {
   "cell_type": "code",
   "execution_count": 46,
   "id": "2e7b487a-5182-4e6a-ac05-48e3040efd6b",
   "metadata": {},
   "outputs": [
    {
     "name": "stdout",
     "output_type": "stream",
     "text": [
      "Total de personas sin duplicados: 12\n",
      "Personas en A y B: 2, {'Jose', 'Juan'}\n",
      "Personas en B y C: 2, {'Robert', 'Juan'}\n",
      "Personas en los tres grupos: 1, {'Juan'}\n"
     ]
    }
   ],
   "source": [
    "A = {\"Jose\", \"Mariano\", \"Rita\", \"Sara\", \"Juan\"}\n",
    "B = {\"Jose\", \"Maria\", \"Robert\", \"Selena\", \"Juan\"}\n",
    "C = {\"Mario\", \"Freddy\", \"Robert\", \"Dave\", \"Cesar\", \"Juan\"}\n",
    "\n",
    "# Total de personas sin contar duplicados\n",
    "total_personas = len(set(A) | set(B) | set(C))\n",
    "print(f\"Total de personas sin duplicados: {total_personas}\")\n",
    "\n",
    "# Personas en A y B\n",
    "personas_en_A_y_B = set(A) & set(B)\n",
    "print(f\"Personas en A y B: {len(personas_en_A_y_B)}, {personas_en_A_y_B}\")\n",
    "\n",
    "# Personas en B y C\n",
    "personas_en_B_y_C = set(B) & set(C)\n",
    "print(f\"Personas en B y C: {len(personas_en_B_y_C)}, {personas_en_B_y_C}\")\n",
    "\n",
    "# Personas en los tres grupos\n",
    "personas_en_los_tres_grupos = set(A) & set(B) & set(C)\n",
    "print(f\"Personas en los tres grupos: {len(personas_en_los_tres_grupos)}, {personas_en_los_tres_grupos}\")\n"
   ]
  },
  {
   "cell_type": "markdown",
   "id": "c9cd9f91-6684-4299-93bc-0713d351774e",
   "metadata": {},
   "source": [
    "#### Pregunta 6"
   ]
  },
  {
   "cell_type": "markdown",
   "id": "22a3c940-ed46-4795-b3cf-663eda5b3a01",
   "metadata": {},
   "source": [
    "Realizar una función en Python que permita convertir un número decimal a un número romano. El limite de números romanos es 3999.\n",
    "\n",
    "22 -> XXII"
   ]
  },
  {
   "cell_type": "code",
   "execution_count": 48,
   "id": "ce20b06a-590e-480e-b542-845bcc615627",
   "metadata": {},
   "outputs": [
    {
     "name": "stdout",
     "output_type": "stream",
     "text": [
      "45 -> XLV\n"
     ]
    }
   ],
   "source": [
    "def decimal_a_romano(numero):\n",
    "    if not 0 < numero < 4000:\n",
    "        raise ValueError(\"El número debe estar en el rango de 1 a 3999\")\n",
    "\n",
    "    valores = [1000, 900, 500, 400, 100, 90, 50, 40, 10, 9, 5, 4, 1]\n",
    "    simbolos = [\"M\", \"CM\", \"D\", \"CD\", \"C\", \"XC\", \"L\", \"XL\", \"X\", \"IX\", \"V\", \"IV\", \"I\"]\n",
    "\n",
    "    resultado = \"\"\n",
    "    i = 0\n",
    "    while numero > 0:\n",
    "        if numero >= valores[i]:\n",
    "            resultado += simbolos[i]\n",
    "            numero -= valores[i]\n",
    "        else:\n",
    "            i += 1\n",
    "\n",
    "    return resultado\n",
    "\n",
    "numero_decimal = 45\n",
    "numero_romano = decimal_a_romano(numero_decimal)\n",
    "print(f\"{numero_decimal} -> {numero_romano}\")"
   ]
  },
  {
   "cell_type": "markdown",
   "id": "caede231-1f7b-4aa9-9684-48e93c830486",
   "metadata": {},
   "source": [
    "#### Pregunta 7"
   ]
  },
  {
   "cell_type": "markdown",
   "id": "425d6729-50bc-45e6-8549-6869bea15d55",
   "metadata": {},
   "source": [
    "Escribir las funciones necesarias para cargar una matriz cuadrada de la siguiente forma.\n",
    "\n",
    "\n",
    "| 5 | 4 | 3 | 2 | 1 |\n",
    "|---|---|---|---|---|\n",
    "| 4 | 4 | 3 | 2 | 1 |\n",
    "| 3 | 3 | 3 | 2 | 1 |\n",
    "| 2 | 2 | 2 | 2 | 1 |\n",
    "| 1 | 1 | 1 | 1 | 1 |\n"
   ]
  },
  {
   "cell_type": "code",
   "execution_count": 44,
   "id": "067b1993-a39b-42f7-90ce-c40ce7c171f0",
   "metadata": {},
   "outputs": [
    {
     "name": "stdout",
     "output_type": "stream",
     "text": [
      "5\t4\t3\t2\t1\n",
      "4\t4\t3\t2\t1\n",
      "3\t3\t3\t2\t1\n",
      "2\t2\t2\t2\t1\n",
      "1\t1\t1\t1\t1\n"
     ]
    }
   ],
   "source": [
    "def cargar_matriz(n):\n",
    "    matriz = []\n",
    "    for i in range(n):\n",
    "        fila = []\n",
    "        for j in range(n):\n",
    "            valor = min(i, j) + 1\n",
    "            fila.append(valor)\n",
    "        matriz.append(fila)\n",
    "    \n",
    "    # Invertir filas\n",
    "    matriz = matriz[::-1]\n",
    "    \n",
    "    # Invertir columnas\n",
    "    matriz = [fila[::-1] for fila in matriz]\n",
    "    \n",
    "    return matriz\n",
    "\n",
    "def imprimir_matriz(matriz):\n",
    "    for fila in matriz:\n",
    "        print('\\t'.join(map(str, fila)))\n",
    "\n",
    "n = 5\n",
    "mi_matriz = cargar_matriz(n)\n",
    "imprimir_matriz(mi_matriz)"
   ]
  },
  {
   "cell_type": "markdown",
   "id": "5232665e-16e1-45fc-b818-ff63737c25fe",
   "metadata": {},
   "source": [
    "#### Pregunta 8"
   ]
  },
  {
   "cell_type": "markdown",
   "id": "6edc3ea8-6c76-4673-8962-ff790f90270d",
   "metadata": {},
   "source": [
    "Escribir las funciones necesarias para cargar una matriz cuadrada de la siguiente forma.\n",
    "\n",
    "| 15 | 0  | 0  | 0 | 0 |\n",
    "|----|----|----|---|---|\n",
    "| 14 | 13 | 0  | 0 | 0 |\n",
    "| 12 | 11 | 10 | 0 | 0 |\n",
    "| 9  | 8  | 7  | 6 | 0 |\n",
    "| 5  | 4  | 3  | 2 | 1 |"
   ]
  },
  {
   "cell_type": "code",
   "execution_count": 53,
   "id": "0d4da901",
   "metadata": {},
   "outputs": [
    {
     "name": "stdout",
     "output_type": "stream",
     "text": [
      "15\t0\t0\t0\t0\t\n",
      "14\t10\t0\t0\t0\t\n",
      "13\t9\t6\t0\t0\t\n",
      "12\t8\t5\t3\t0\t\n",
      "11\t7\t4\t2\t1\t\n"
     ]
    }
   ],
   "source": [
    "n = 5\n",
    "matriz = []\n",
    "for _ in range(n):\n",
    "    fila = []\n",
    "    for _ in range(n):\n",
    "        fila.append(0)\n",
    "    matriz.append(fila)\n",
    "\n",
    "valor = 15\n",
    "for i in range(n):\n",
    "    for j in range(i, n):\n",
    "        matriz[j][i] = valor\n",
    "        valor -= 1\n",
    "\n",
    "# Imprimir la matriz\n",
    "for fila in matriz:\n",
    "    for elemento in fila:\n",
    "        print(elemento, end='\\t')\n",
    "    print()"
   ]
  },
  {
   "cell_type": "markdown",
   "id": "e218822e-a34c-46b4-8a26-ab99a8598866",
   "metadata": {},
   "source": [
    "#### Pregunta 9"
   ]
  },
  {
   "cell_type": "markdown",
   "id": "e8996d34-6b5c-471d-b3d8-7767a9130ccd",
   "metadata": {},
   "source": [
    "Realizar una función que permita multiplicar 2 matrices, esta debe recibir como parámetros las 2 matrices. Para multiplicar dos matrices necesitamos que el número de columnas de la primera matriz sea igual al número de filas de la segunda matriz, sino cumple con esto debera devolver un mensaje indicando que no se puede realizar la operación.\n",
    "\n",
    "Ejemplo: Supongamos A una matriz de 2x3 y B una matriz de 3x4,dara como resultado una matriz de 2x4, puedes investigar como se realiza la multiplicación de matrices. "
   ]
  },
  {
   "cell_type": "markdown",
   "id": "261d5b0f-d460-4f6f-bc5b-0cec68d16952",
   "metadata": {},
   "source": []
  },
  {
   "cell_type": "code",
   "execution_count": 54,
   "id": "59ccb484",
   "metadata": {},
   "outputs": [
    {
     "name": "stdout",
     "output_type": "stream",
     "text": [
      "[26, 27]\n",
      "[44, 45]\n",
      "[62, 63]\n"
     ]
    }
   ],
   "source": [
    "def multiplicar_matrices(matriz_a, matriz_b):\n",
    "    filas_a = len(matriz_a)\n",
    "    columnas_a = len(matriz_a[0])\n",
    "    filas_b = len(matriz_b)\n",
    "    columnas_b = len(matriz_b[0])\n",
    "\n",
    "    if columnas_a != filas_b:\n",
    "        return \"No se puede realizar la multiplicación. Las dimensiones no son válidas.\"\n",
    "\n",
    "    resultado = [[0] * columnas_b for _ in range(filas_a)]\n",
    "\n",
    "    for i in range(filas_a):\n",
    "        for j in range(columnas_b):\n",
    "            for k in range(filas_b):\n",
    "                resultado[i][j] += matriz_a[i][k] * matriz_b[k][j]\n",
    "\n",
    "    return resultado\n",
    "\n",
    "matriz_a = [\n",
    "    [2, 3],\n",
    "    [4, 5],\n",
    "    [6, 7]\n",
    "]\n",
    "\n",
    "matriz_b = [\n",
    "    [1, 0],\n",
    "    [8, 9]\n",
    "]\n",
    "\n",
    "resultado = multiplicar_matrices(matriz_a, matriz_b)\n",
    "\n",
    "if isinstance(resultado, str):\n",
    "    print(resultado)\n",
    "else:\n",
    "    for fila in resultado:\n",
    "        print(fila)\n"
   ]
  },
  {
   "cell_type": "markdown",
   "id": "a988f9b3-2799-4558-9a71-b17082b868be",
   "metadata": {},
   "source": [
    "#### Pregunta 10"
   ]
  },
  {
   "cell_type": "markdown",
   "id": "46c27448-879e-4520-be4d-8a1218ca9ce8",
   "metadata": {},
   "source": [
    "Escribe un programa python que pida un número por teclado y que cree un diccionario cuyas claves sean desde el número 1 hasta el número indicado, y los valores sean los cuadrados de las claves."
   ]
  },
  {
   "cell_type": "code",
   "execution_count": 56,
   "id": "b678d857-1636-4334-b2e6-0eadf57df4dc",
   "metadata": {},
   "outputs": [
    {
     "name": "stdout",
     "output_type": "stream",
     "text": [
      "Ingrese un número: 10\n",
      "El diccionario creado es:\n",
      "{1: 1, 2: 4, 3: 9, 4: 16, 5: 25, 6: 36, 7: 49, 8: 64, 9: 81, 10: 100}\n"
     ]
    }
   ],
   "source": [
    "numero = input(\"Ingrese un número: \")\n",
    "\n",
    "if numero.isdigit() and int(numero) > 0:\n",
    "    numero = int(numero)\n",
    "    diccionario = {}\n",
    "    for i in range(1, numero + 1):\n",
    "        diccionario[i] = i**2\n",
    "    print(\"El diccionario creado es:\")\n",
    "    print(diccionario)\n",
    "else:\n",
    "    print(\"Por favor, ingrese un número entero positivo.\")"
   ]
  },
  {
   "cell_type": "markdown",
   "id": "b0dfd81b-4a43-4773-a2d3-0f44ec44d221",
   "metadata": {},
   "source": [
    "#### Pregunta 11"
   ]
  },
  {
   "cell_type": "markdown",
   "id": "2acdbb4c-4773-47ed-a66a-91a5b4dcce36",
   "metadata": {},
   "source": [
    "Escribe un programa python que trabaje sobre un diccionario llamado capitales, debe solicitar cuantas capitales quiere guardar en el diccionario y solicitar los datos de el pais y su capital, donde pais será la clave y capital el valor. Al final debe imprimir todas todas las capitales de la siguiente manera:\n",
    "\n",
    "\"La capital de {} es {}.\""
   ]
  },
  {
   "cell_type": "code",
   "execution_count": null,
   "id": "5e68ac55-b1a3-4ad2-b1ca-c09b2d355f4c",
   "metadata": {},
   "outputs": [],
   "source": []
  },
  {
   "cell_type": "markdown",
   "id": "7169a1e2-fd2e-40f2-9256-fccb533bbd54",
   "metadata": {},
   "source": [
    "#### Pregunta 12"
   ]
  },
  {
   "cell_type": "markdown",
   "id": "23b6e4a8-ee27-469e-b3d0-a0812556b8a6",
   "metadata": {},
   "source": [
    "Escribir un programa que implemente una agenda. En la agenda se podrán guardar nombres y números de teléfono. El programa nos dará el siguiente menú:\n",
    "\n",
    "- Añadir/modificar: Nos pide un nombre. Si el nombre se encuentra en la agenda, debe mostrar el teléfono y, opcionalmente, permitir modificarlo si no es correcto. Si el nombre no se encuentra, debe permitir ingresar el teléfono correspondiente.\n",
    "- Buscar: Nos pide una cadena de caracteres, y nos muestras todos los contactos cuyos nombres comiencen por dicha cadena.\n",
    "- Borrar: Nos pide un nombre y si existe nos preguntará si queremos borrarlo de la agenda.\n",
    "- Listar: Nos muestra todos los contactos de la agenda.\n",
    "\n",
    "Implementar el programa con un diccionario."
   ]
  },
  {
   "cell_type": "code",
   "execution_count": 57,
   "id": "653004f0-2239-4bd6-b8b3-976bfbf8a529",
   "metadata": {},
   "outputs": [
    {
     "name": "stdout",
     "output_type": "stream",
     "text": [
      "¿Cuántas capitales quiere guardar en el diccionario? 3\n",
      "Ingrese el nombre del país: Francia\n",
      "Ingrese la capital de Francia: Paris\n",
      "Ingrese el nombre del país: Alemania\n",
      "Ingrese la capital de Alemania: Berlín\n",
      "Ingrese el nombre del país: Turquía\n",
      "Ingrese la capital de Turquía: Estambul\n",
      "La capital de Francia es Paris.\n",
      "La capital de Alemania es Berlín.\n",
      "La capital de Turquía es Estambul.\n"
     ]
    }
   ],
   "source": [
    "# Solicitar cuántas capitales quiere guardar\n",
    "num_capitales = int(input(\"¿Cuántas capitales quiere guardar en el diccionario? \"))\n",
    "\n",
    "# Crear el diccionario\n",
    "capitales = {}\n",
    "\n",
    "# Solicitar datos del país y su capital y guardar en el diccionario\n",
    "for i in range(num_capitales):\n",
    "    pais = input(\"Ingrese el nombre del país: \")\n",
    "    capital = input(f\"Ingrese la capital de {pais}: \")\n",
    "    capitales[pais] = capital\n",
    "\n",
    "# Imprimir todas las capitales\n",
    "for pais, capital in capitales.items():\n",
    "    print(\"La capital de {} es {}.\".format(pais, capital))\n"
   ]
  },
  {
   "cell_type": "markdown",
   "id": "fc388caa-ff04-4ff4-ab6f-7b57c1b91367",
   "metadata": {},
   "source": [
    "#### Pregunta 13"
   ]
  },
  {
   "cell_type": "markdown",
   "id": "eb300f02-fcb7-4561-94e5-44c2a22c8da8",
   "metadata": {},
   "source": [
    "Mejorar el código anterior para que pueda trabajar sobre un documento llamado \"contactos.txt\", lo primero que deberás hacer es agregar la opcion \"salir\" para terminar la ejecución.\n",
    "\n",
    "El código funcionara de la siguiente manera:\n",
    "\n",
    "- Cuando se ejecute el código se deben deben cargar los contactos del archivo \"contactos.txt\" en un diccionario para su manipulación durante la ejecución (la primera vez el documento estará en blanco)\n",
    "\n",
    "- Ante cualquier cambio efectuado mediante la accion de las opciones programadas en el ejercicio anterior, estos se deben ver reflejados en el archivo \"contacto.txt\" de tal manera que los contactos queden guardados en el archivo.\n",
    "\n",
    "- Para actualizar los contactos en el archivo puede elegir el modo de apertura que vea conveniente.\n",
    "\n",
    "- Los contactos deben ser guardados en \"contactos.txt\" bajo el siguiente formato \"contacto;telefono\"."
   ]
  },
  {
   "cell_type": "code",
   "execution_count": 58,
   "id": "78ca73f4-3785-44f9-83ce-925638cc2409",
   "metadata": {},
   "outputs": [
    {
     "name": "stdout",
     "output_type": "stream",
     "text": [
      "\n",
      "Opciones:\n",
      "1. Mostrar contactos\n",
      "2. Agregar contacto\n",
      "3. Salir\n",
      "Ingrese el número de la opción deseada: 2\n",
      "Ingrese el nombre del país: Bulgaria\n",
      "Ingrese la capital de Bulgaria: Sofía\n",
      "Contacto agregado correctamente.\n",
      "\n",
      "Opciones:\n",
      "1. Mostrar contactos\n",
      "2. Agregar contacto\n",
      "3. Salir\n",
      "Ingrese el número de la opción deseada: 2\n",
      "Ingrese el nombre del país: Estados Unidos\n",
      "Ingrese la capital de Estados Unidos: Washington\n",
      "Contacto agregado correctamente.\n",
      "\n",
      "Opciones:\n",
      "1. Mostrar contactos\n",
      "2. Agregar contacto\n",
      "3. Salir\n",
      "Ingrese el número de la opción deseada: 2\n",
      "Ingrese el nombre del país: Argentina\n",
      "Ingrese la capital de Argentina: Buenos Aires\n",
      "Contacto agregado correctamente.\n",
      "\n",
      "Opciones:\n",
      "1. Mostrar contactos\n",
      "2. Agregar contacto\n",
      "3. Salir\n",
      "Ingrese el número de la opción deseada: 2\n",
      "Ingrese el nombre del país: Ecuador\n",
      "Ingrese la capital de Ecuador: Quito\n",
      "Contacto agregado correctamente.\n",
      "\n",
      "Opciones:\n",
      "1. Mostrar contactos\n",
      "2. Agregar contacto\n",
      "3. Salir\n",
      "Ingrese el número de la opción deseada: 1\n",
      "La capital de Bulgaria es Sofía.\n",
      "La capital de Estados Unidos es Washington.\n",
      "La capital de Argentina es Buenos Aires.\n",
      "La capital de Ecuador es Quito.\n",
      "\n",
      "Opciones:\n",
      "1. Mostrar contactos\n",
      "2. Agregar contacto\n",
      "3. Salir\n",
      "Ingrese el número de la opción deseada: 3\n",
      "Contactos guardados en el archivo. ¡Hasta luego!\n"
     ]
    }
   ],
   "source": [
    "def cargar_contactos(nombre_archivo):\n",
    "    contactos = {}\n",
    "    try:\n",
    "        with open(nombre_archivo, 'r') as archivo:\n",
    "            for linea in archivo:\n",
    "                pais, capital = linea.strip().split(';')\n",
    "                contactos[pais] = capital\n",
    "    except FileNotFoundError:\n",
    "        pass\n",
    "    return contactos\n",
    "\n",
    "def guardar_contactos(contactos, nombre_archivo):\n",
    "    with open(nombre_archivo, 'w') as archivo:\n",
    "        for pais, capital in contactos.items():\n",
    "            archivo.write(f\"{pais};{capital}\\n\")\n",
    "\n",
    "def mostrar_contactos(contactos):\n",
    "    for pais, capital in contactos.items():\n",
    "        print(\"La capital de {} es {}.\".format(pais, capital))\n",
    "\n",
    "nombre_archivo = \"contactos.txt\"\n",
    "contactos = cargar_contactos(nombre_archivo)\n",
    "\n",
    "while True:\n",
    "    print(\"\\nOpciones:\")\n",
    "    print(\"1. Mostrar contactos\")\n",
    "    print(\"2. Agregar contacto\")\n",
    "    print(\"3. Salir\")\n",
    "\n",
    "    opcion = input(\"Ingrese el número de la opción deseada: \")\n",
    "\n",
    "    if opcion == \"1\":\n",
    "        mostrar_contactos(contactos)\n",
    "    elif opcion == \"2\":\n",
    "        pais = input(\"Ingrese el nombre del país: \")\n",
    "        capital = input(f\"Ingrese la capital de {pais}: \")\n",
    "        contactos[pais] = capital\n",
    "        print(\"Contacto agregado correctamente.\")\n",
    "    elif opcion == \"3\":\n",
    "        guardar_contactos(contactos, nombre_archivo)\n",
    "        print(\"Contactos guardados en el archivo. ¡Hasta luego!\")\n",
    "        break\n",
    "    else:\n",
    "        print(\"Opción no válida. Por favor, ingrese un número válido.\")"
   ]
  },
  {
   "cell_type": "code",
   "execution_count": null,
   "id": "a0f8769a",
   "metadata": {},
   "outputs": [],
   "source": []
  }
 ],
 "metadata": {
  "kernelspec": {
   "display_name": "Python 3 (ipykernel)",
   "language": "python",
   "name": "python3"
  },
  "language_info": {
   "codemirror_mode": {
    "name": "ipython",
    "version": 3
   },
   "file_extension": ".py",
   "mimetype": "text/x-python",
   "name": "python",
   "nbconvert_exporter": "python",
   "pygments_lexer": "ipython3",
   "version": "3.11.4"
  }
 },
 "nbformat": 4,
 "nbformat_minor": 5
}
